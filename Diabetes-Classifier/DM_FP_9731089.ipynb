{
  "nbformat": 4,
  "nbformat_minor": 0,
  "metadata": {
    "colab": {
      "name": "DM_FP_9731089.ipynb",
      "provenance": [],
      "collapsed_sections": []
    },
    "kernelspec": {
      "name": "python3",
      "display_name": "Python 3"
    },
    "language_info": {
      "name": "python"
    },
    "accelerator": "GPU",
    "gpuClass": "standard"
  },
  "cells": [
    {
      "cell_type": "code",
      "execution_count": 1,
      "metadata": {
        "id": "2Kgoad-dc_t4"
      },
      "outputs": [],
      "source": [
        "import pandas as pd "
      ]
    },
    {
      "cell_type": "markdown",
      "source": [
        "## Preprocessing"
      ],
      "metadata": {
        "id": "RQ5GEvwnhXt8"
      }
    },
    {
      "cell_type": "markdown",
      "source": [
        "### Load data"
      ],
      "metadata": {
        "id": "clUyJo_ohS0S"
      }
    },
    {
      "cell_type": "code",
      "source": [
        "diabetes_data = pd.read_csv(\"diabetes.csv\", index_col=0) \n",
        "diabetes_data.head(10)"
      ],
      "metadata": {
        "id": "eUJ-vt0peAZ7",
        "colab": {
          "base_uri": "https://localhost:8080/",
          "height": 503
        },
        "outputId": "6e7d9ef5-9d44-4737-e849-8bc68b697bfa"
      },
      "execution_count": 2,
      "outputs": [
        {
          "output_type": "execute_result",
          "data": {
            "text/plain": [
              "   Diabetes_binary  HighBP  High Cholesterol  Cholesterol Check   BMI  Smoker  \\\n",
              "0              0.0     1.0               0.0                1.0  26.0     0.0   \n",
              "1              0.0     1.0               1.0                1.0  26.0     1.0   \n",
              "2              0.0     0.0               0.0                1.0  26.0     0.0   \n",
              "3              0.0     1.0               1.0                1.0  28.0     1.0   \n",
              "4              0.0     0.0               0.0                1.0  29.0     1.0   \n",
              "5              0.0     0.0               0.0                1.0  18.0     0.0   \n",
              "6              0.0     0.0               1.0                1.0  26.0     1.0   \n",
              "7              0.0     0.0               0.0                1.0  31.0     1.0   \n",
              "8              0.0     0.0               0.0                1.0  32.0     0.0   \n",
              "9              0.0     0.0               0.0                1.0  27.0     1.0   \n",
              "\n",
              "   Stroke  HeartDiseaseorAttack  Physical Activity  Fruits  ...  \\\n",
              "0     0.0                   0.0                1.0     0.0  ...   \n",
              "1     1.0                   0.0                0.0     1.0  ...   \n",
              "2     0.0                   0.0                1.0     1.0  ...   \n",
              "3     0.0                   0.0                1.0     1.0  ...   \n",
              "4     0.0                   0.0                1.0     1.0  ...   \n",
              "5     0.0                   0.0                1.0     1.0  ...   \n",
              "6     0.0                   0.0                1.0     1.0  ...   \n",
              "7     0.0                   0.0                0.0     1.0  ...   \n",
              "8     0.0                   0.0                1.0     1.0  ...   \n",
              "9     0.0                   0.0                0.0     1.0  ...   \n",
              "\n",
              "   Any Health Care  No Doctor because of Cost  General Health  Mental Health  \\\n",
              "0              1.0                        0.0          Medium            5.0   \n",
              "1              1.0                        0.0          Medium            0.0   \n",
              "2              1.0                        0.0            High            0.0   \n",
              "3              1.0                        0.0          Medium            0.0   \n",
              "4              1.0                        0.0            Good            0.0   \n",
              "5              0.0                        0.0            Good            7.0   \n",
              "6              1.0                        0.0            High            0.0   \n",
              "7              1.0                        0.0             Low            0.0   \n",
              "8              1.0                        0.0          Medium            0.0   \n",
              "9              1.0                        0.0          Medium            0.0   \n",
              "\n",
              "  Physical Health  Difficulty Walking     Sex   Age Education  Income  \n",
              "0            30.0                 0.0    male   4.0      Cat6    Cat8  \n",
              "1             0.0                 0.0    male  12.0      Cat6    Cat8  \n",
              "2            10.0                 0.0    male  13.0      Cat6    Cat8  \n",
              "3             3.0                 0.0    male  11.0      Cat6    Cat8  \n",
              "4             0.0                 0.0  female   8.0      Cat5    Cat8  \n",
              "5             0.0                 0.0  female   1.0      Cat4    Cat7  \n",
              "6             0.0                 0.0    male  13.0      Cat5    Cat6  \n",
              "7             0.0                 0.0    male   6.0      Cat4    Cat3  \n",
              "8             0.0                 0.0  female   3.0      Cat6    Cat8  \n",
              "9             6.0                 0.0    male   6.0      Cat4    Cat4  \n",
              "\n",
              "[10 rows x 22 columns]"
            ],
            "text/html": [
              "\n",
              "  <div id=\"df-72868351-957a-42e2-a6ee-d064c78ea694\">\n",
              "    <div class=\"colab-df-container\">\n",
              "      <div>\n",
              "<style scoped>\n",
              "    .dataframe tbody tr th:only-of-type {\n",
              "        vertical-align: middle;\n",
              "    }\n",
              "\n",
              "    .dataframe tbody tr th {\n",
              "        vertical-align: top;\n",
              "    }\n",
              "\n",
              "    .dataframe thead th {\n",
              "        text-align: right;\n",
              "    }\n",
              "</style>\n",
              "<table border=\"1\" class=\"dataframe\">\n",
              "  <thead>\n",
              "    <tr style=\"text-align: right;\">\n",
              "      <th></th>\n",
              "      <th>Diabetes_binary</th>\n",
              "      <th>HighBP</th>\n",
              "      <th>High Cholesterol</th>\n",
              "      <th>Cholesterol Check</th>\n",
              "      <th>BMI</th>\n",
              "      <th>Smoker</th>\n",
              "      <th>Stroke</th>\n",
              "      <th>HeartDiseaseorAttack</th>\n",
              "      <th>Physical Activity</th>\n",
              "      <th>Fruits</th>\n",
              "      <th>...</th>\n",
              "      <th>Any Health Care</th>\n",
              "      <th>No Doctor because of Cost</th>\n",
              "      <th>General Health</th>\n",
              "      <th>Mental Health</th>\n",
              "      <th>Physical Health</th>\n",
              "      <th>Difficulty Walking</th>\n",
              "      <th>Sex</th>\n",
              "      <th>Age</th>\n",
              "      <th>Education</th>\n",
              "      <th>Income</th>\n",
              "    </tr>\n",
              "  </thead>\n",
              "  <tbody>\n",
              "    <tr>\n",
              "      <th>0</th>\n",
              "      <td>0.0</td>\n",
              "      <td>1.0</td>\n",
              "      <td>0.0</td>\n",
              "      <td>1.0</td>\n",
              "      <td>26.0</td>\n",
              "      <td>0.0</td>\n",
              "      <td>0.0</td>\n",
              "      <td>0.0</td>\n",
              "      <td>1.0</td>\n",
              "      <td>0.0</td>\n",
              "      <td>...</td>\n",
              "      <td>1.0</td>\n",
              "      <td>0.0</td>\n",
              "      <td>Medium</td>\n",
              "      <td>5.0</td>\n",
              "      <td>30.0</td>\n",
              "      <td>0.0</td>\n",
              "      <td>male</td>\n",
              "      <td>4.0</td>\n",
              "      <td>Cat6</td>\n",
              "      <td>Cat8</td>\n",
              "    </tr>\n",
              "    <tr>\n",
              "      <th>1</th>\n",
              "      <td>0.0</td>\n",
              "      <td>1.0</td>\n",
              "      <td>1.0</td>\n",
              "      <td>1.0</td>\n",
              "      <td>26.0</td>\n",
              "      <td>1.0</td>\n",
              "      <td>1.0</td>\n",
              "      <td>0.0</td>\n",
              "      <td>0.0</td>\n",
              "      <td>1.0</td>\n",
              "      <td>...</td>\n",
              "      <td>1.0</td>\n",
              "      <td>0.0</td>\n",
              "      <td>Medium</td>\n",
              "      <td>0.0</td>\n",
              "      <td>0.0</td>\n",
              "      <td>0.0</td>\n",
              "      <td>male</td>\n",
              "      <td>12.0</td>\n",
              "      <td>Cat6</td>\n",
              "      <td>Cat8</td>\n",
              "    </tr>\n",
              "    <tr>\n",
              "      <th>2</th>\n",
              "      <td>0.0</td>\n",
              "      <td>0.0</td>\n",
              "      <td>0.0</td>\n",
              "      <td>1.0</td>\n",
              "      <td>26.0</td>\n",
              "      <td>0.0</td>\n",
              "      <td>0.0</td>\n",
              "      <td>0.0</td>\n",
              "      <td>1.0</td>\n",
              "      <td>1.0</td>\n",
              "      <td>...</td>\n",
              "      <td>1.0</td>\n",
              "      <td>0.0</td>\n",
              "      <td>High</td>\n",
              "      <td>0.0</td>\n",
              "      <td>10.0</td>\n",
              "      <td>0.0</td>\n",
              "      <td>male</td>\n",
              "      <td>13.0</td>\n",
              "      <td>Cat6</td>\n",
              "      <td>Cat8</td>\n",
              "    </tr>\n",
              "    <tr>\n",
              "      <th>3</th>\n",
              "      <td>0.0</td>\n",
              "      <td>1.0</td>\n",
              "      <td>1.0</td>\n",
              "      <td>1.0</td>\n",
              "      <td>28.0</td>\n",
              "      <td>1.0</td>\n",
              "      <td>0.0</td>\n",
              "      <td>0.0</td>\n",
              "      <td>1.0</td>\n",
              "      <td>1.0</td>\n",
              "      <td>...</td>\n",
              "      <td>1.0</td>\n",
              "      <td>0.0</td>\n",
              "      <td>Medium</td>\n",
              "      <td>0.0</td>\n",
              "      <td>3.0</td>\n",
              "      <td>0.0</td>\n",
              "      <td>male</td>\n",
              "      <td>11.0</td>\n",
              "      <td>Cat6</td>\n",
              "      <td>Cat8</td>\n",
              "    </tr>\n",
              "    <tr>\n",
              "      <th>4</th>\n",
              "      <td>0.0</td>\n",
              "      <td>0.0</td>\n",
              "      <td>0.0</td>\n",
              "      <td>1.0</td>\n",
              "      <td>29.0</td>\n",
              "      <td>1.0</td>\n",
              "      <td>0.0</td>\n",
              "      <td>0.0</td>\n",
              "      <td>1.0</td>\n",
              "      <td>1.0</td>\n",
              "      <td>...</td>\n",
              "      <td>1.0</td>\n",
              "      <td>0.0</td>\n",
              "      <td>Good</td>\n",
              "      <td>0.0</td>\n",
              "      <td>0.0</td>\n",
              "      <td>0.0</td>\n",
              "      <td>female</td>\n",
              "      <td>8.0</td>\n",
              "      <td>Cat5</td>\n",
              "      <td>Cat8</td>\n",
              "    </tr>\n",
              "    <tr>\n",
              "      <th>5</th>\n",
              "      <td>0.0</td>\n",
              "      <td>0.0</td>\n",
              "      <td>0.0</td>\n",
              "      <td>1.0</td>\n",
              "      <td>18.0</td>\n",
              "      <td>0.0</td>\n",
              "      <td>0.0</td>\n",
              "      <td>0.0</td>\n",
              "      <td>1.0</td>\n",
              "      <td>1.0</td>\n",
              "      <td>...</td>\n",
              "      <td>0.0</td>\n",
              "      <td>0.0</td>\n",
              "      <td>Good</td>\n",
              "      <td>7.0</td>\n",
              "      <td>0.0</td>\n",
              "      <td>0.0</td>\n",
              "      <td>female</td>\n",
              "      <td>1.0</td>\n",
              "      <td>Cat4</td>\n",
              "      <td>Cat7</td>\n",
              "    </tr>\n",
              "    <tr>\n",
              "      <th>6</th>\n",
              "      <td>0.0</td>\n",
              "      <td>0.0</td>\n",
              "      <td>1.0</td>\n",
              "      <td>1.0</td>\n",
              "      <td>26.0</td>\n",
              "      <td>1.0</td>\n",
              "      <td>0.0</td>\n",
              "      <td>0.0</td>\n",
              "      <td>1.0</td>\n",
              "      <td>1.0</td>\n",
              "      <td>...</td>\n",
              "      <td>1.0</td>\n",
              "      <td>0.0</td>\n",
              "      <td>High</td>\n",
              "      <td>0.0</td>\n",
              "      <td>0.0</td>\n",
              "      <td>0.0</td>\n",
              "      <td>male</td>\n",
              "      <td>13.0</td>\n",
              "      <td>Cat5</td>\n",
              "      <td>Cat6</td>\n",
              "    </tr>\n",
              "    <tr>\n",
              "      <th>7</th>\n",
              "      <td>0.0</td>\n",
              "      <td>0.0</td>\n",
              "      <td>0.0</td>\n",
              "      <td>1.0</td>\n",
              "      <td>31.0</td>\n",
              "      <td>1.0</td>\n",
              "      <td>0.0</td>\n",
              "      <td>0.0</td>\n",
              "      <td>0.0</td>\n",
              "      <td>1.0</td>\n",
              "      <td>...</td>\n",
              "      <td>1.0</td>\n",
              "      <td>0.0</td>\n",
              "      <td>Low</td>\n",
              "      <td>0.0</td>\n",
              "      <td>0.0</td>\n",
              "      <td>0.0</td>\n",
              "      <td>male</td>\n",
              "      <td>6.0</td>\n",
              "      <td>Cat4</td>\n",
              "      <td>Cat3</td>\n",
              "    </tr>\n",
              "    <tr>\n",
              "      <th>8</th>\n",
              "      <td>0.0</td>\n",
              "      <td>0.0</td>\n",
              "      <td>0.0</td>\n",
              "      <td>1.0</td>\n",
              "      <td>32.0</td>\n",
              "      <td>0.0</td>\n",
              "      <td>0.0</td>\n",
              "      <td>0.0</td>\n",
              "      <td>1.0</td>\n",
              "      <td>1.0</td>\n",
              "      <td>...</td>\n",
              "      <td>1.0</td>\n",
              "      <td>0.0</td>\n",
              "      <td>Medium</td>\n",
              "      <td>0.0</td>\n",
              "      <td>0.0</td>\n",
              "      <td>0.0</td>\n",
              "      <td>female</td>\n",
              "      <td>3.0</td>\n",
              "      <td>Cat6</td>\n",
              "      <td>Cat8</td>\n",
              "    </tr>\n",
              "    <tr>\n",
              "      <th>9</th>\n",
              "      <td>0.0</td>\n",
              "      <td>0.0</td>\n",
              "      <td>0.0</td>\n",
              "      <td>1.0</td>\n",
              "      <td>27.0</td>\n",
              "      <td>1.0</td>\n",
              "      <td>0.0</td>\n",
              "      <td>0.0</td>\n",
              "      <td>0.0</td>\n",
              "      <td>1.0</td>\n",
              "      <td>...</td>\n",
              "      <td>1.0</td>\n",
              "      <td>0.0</td>\n",
              "      <td>Medium</td>\n",
              "      <td>0.0</td>\n",
              "      <td>6.0</td>\n",
              "      <td>0.0</td>\n",
              "      <td>male</td>\n",
              "      <td>6.0</td>\n",
              "      <td>Cat4</td>\n",
              "      <td>Cat4</td>\n",
              "    </tr>\n",
              "  </tbody>\n",
              "</table>\n",
              "<p>10 rows × 22 columns</p>\n",
              "</div>\n",
              "      <button class=\"colab-df-convert\" onclick=\"convertToInteractive('df-72868351-957a-42e2-a6ee-d064c78ea694')\"\n",
              "              title=\"Convert this dataframe to an interactive table.\"\n",
              "              style=\"display:none;\">\n",
              "        \n",
              "  <svg xmlns=\"http://www.w3.org/2000/svg\" height=\"24px\"viewBox=\"0 0 24 24\"\n",
              "       width=\"24px\">\n",
              "    <path d=\"M0 0h24v24H0V0z\" fill=\"none\"/>\n",
              "    <path d=\"M18.56 5.44l.94 2.06.94-2.06 2.06-.94-2.06-.94-.94-2.06-.94 2.06-2.06.94zm-11 1L8.5 8.5l.94-2.06 2.06-.94-2.06-.94L8.5 2.5l-.94 2.06-2.06.94zm10 10l.94 2.06.94-2.06 2.06-.94-2.06-.94-.94-2.06-.94 2.06-2.06.94z\"/><path d=\"M17.41 7.96l-1.37-1.37c-.4-.4-.92-.59-1.43-.59-.52 0-1.04.2-1.43.59L10.3 9.45l-7.72 7.72c-.78.78-.78 2.05 0 2.83L4 21.41c.39.39.9.59 1.41.59.51 0 1.02-.2 1.41-.59l7.78-7.78 2.81-2.81c.8-.78.8-2.07 0-2.86zM5.41 20L4 18.59l7.72-7.72 1.47 1.35L5.41 20z\"/>\n",
              "  </svg>\n",
              "      </button>\n",
              "      \n",
              "  <style>\n",
              "    .colab-df-container {\n",
              "      display:flex;\n",
              "      flex-wrap:wrap;\n",
              "      gap: 12px;\n",
              "    }\n",
              "\n",
              "    .colab-df-convert {\n",
              "      background-color: #E8F0FE;\n",
              "      border: none;\n",
              "      border-radius: 50%;\n",
              "      cursor: pointer;\n",
              "      display: none;\n",
              "      fill: #1967D2;\n",
              "      height: 32px;\n",
              "      padding: 0 0 0 0;\n",
              "      width: 32px;\n",
              "    }\n",
              "\n",
              "    .colab-df-convert:hover {\n",
              "      background-color: #E2EBFA;\n",
              "      box-shadow: 0px 1px 2px rgba(60, 64, 67, 0.3), 0px 1px 3px 1px rgba(60, 64, 67, 0.15);\n",
              "      fill: #174EA6;\n",
              "    }\n",
              "\n",
              "    [theme=dark] .colab-df-convert {\n",
              "      background-color: #3B4455;\n",
              "      fill: #D2E3FC;\n",
              "    }\n",
              "\n",
              "    [theme=dark] .colab-df-convert:hover {\n",
              "      background-color: #434B5C;\n",
              "      box-shadow: 0px 1px 3px 1px rgba(0, 0, 0, 0.15);\n",
              "      filter: drop-shadow(0px 1px 2px rgba(0, 0, 0, 0.3));\n",
              "      fill: #FFFFFF;\n",
              "    }\n",
              "  </style>\n",
              "\n",
              "      <script>\n",
              "        const buttonEl =\n",
              "          document.querySelector('#df-72868351-957a-42e2-a6ee-d064c78ea694 button.colab-df-convert');\n",
              "        buttonEl.style.display =\n",
              "          google.colab.kernel.accessAllowed ? 'block' : 'none';\n",
              "\n",
              "        async function convertToInteractive(key) {\n",
              "          const element = document.querySelector('#df-72868351-957a-42e2-a6ee-d064c78ea694');\n",
              "          const dataTable =\n",
              "            await google.colab.kernel.invokeFunction('convertToInteractive',\n",
              "                                                     [key], {});\n",
              "          if (!dataTable) return;\n",
              "\n",
              "          const docLinkHtml = 'Like what you see? Visit the ' +\n",
              "            '<a target=\"_blank\" href=https://colab.research.google.com/notebooks/data_table.ipynb>data table notebook</a>'\n",
              "            + ' to learn more about interactive tables.';\n",
              "          element.innerHTML = '';\n",
              "          dataTable['output_type'] = 'display_data';\n",
              "          await google.colab.output.renderOutput(dataTable, element);\n",
              "          const docLink = document.createElement('div');\n",
              "          docLink.innerHTML = docLinkHtml;\n",
              "          element.appendChild(docLink);\n",
              "        }\n",
              "      </script>\n",
              "    </div>\n",
              "  </div>\n",
              "  "
            ]
          },
          "metadata": {},
          "execution_count": 2
        }
      ]
    },
    {
      "cell_type": "markdown",
      "source": [
        "### Handle Missing Values "
      ],
      "metadata": {
        "id": "p35Rh2_ouH1D"
      }
    },
    {
      "cell_type": "markdown",
      "source": [
        "#### first get number of missing values in ever column "
      ],
      "metadata": {
        "id": "3gW50UIXxG6W"
      }
    },
    {
      "cell_type": "code",
      "source": [
        "diabetes_data.isnull().sum()"
      ],
      "metadata": {
        "colab": {
          "base_uri": "https://localhost:8080/"
        },
        "id": "A_a1jvBExGUP",
        "outputId": "ac86c1f3-a4db-44fa-82e3-f9132fe3c4cd"
      },
      "execution_count": 3,
      "outputs": [
        {
          "output_type": "execute_result",
          "data": {
            "text/plain": [
              "Diabetes_binary              0\n",
              "HighBP                       0\n",
              "High Cholesterol             0\n",
              "Cholesterol Check            0\n",
              "BMI                          1\n",
              "Smoker                       0\n",
              "Stroke                       0\n",
              "HeartDiseaseorAttack         1\n",
              "Physical Activity            1\n",
              "Fruits                       2\n",
              "Veggies                      1\n",
              "Heavy Alcohol Consumption    1\n",
              "Any Health Care              2\n",
              "No Doctor because of Cost    2\n",
              "General Health               1\n",
              "Mental Health                1\n",
              "Physical Health              1\n",
              "Difficulty Walking           2\n",
              "Sex                          1\n",
              "Age                          1\n",
              "Education                    1\n",
              "Income                       1\n",
              "dtype: int64"
            ]
          },
          "metadata": {},
          "execution_count": 3
        }
      ]
    },
    {
      "cell_type": "markdown",
      "source": [
        "#### همانطور که میبینیم، تعداد داده‌های پوچ در هر ستون بسیار زیاد نیست و می‌توانیم راحت‌ترین راه هندل کردن آنها، یعنی حذفشان را اعمال کنیم. اما با این کار اطلاعات متغیرهای دیگری که در آن ردیف وجود دارند را از دست می‌دهیم. پس به سراغ روش‌های بهتری می‌رویم."
      ],
      "metadata": {
        "id": "jd_pxXwHxY44"
      }
    },
    {
      "cell_type": "markdown",
      "source": [
        "#### از آنجایی که تعداد داده‌های پوچ در هیچ یک از ستون‌ها در حدی زیاد نیست که به فکر حذف کل آن بیفتیم، به سراغ چک کردن این می‌رویم که آیا در یک ردیف تعداد داده‌های پوچ زیادی وجود دارد یا خیر.\n"
      ],
      "metadata": {
        "id": "NMfaXmv2M06O"
      }
    },
    {
      "cell_type": "code",
      "source": [
        "diabetes_data[diabetes_data.isnull().any(axis=1)]"
      ],
      "metadata": {
        "colab": {
          "base_uri": "https://localhost:8080/",
          "height": 379
        },
        "id": "UAEJK7J9MztF",
        "outputId": "ffc984c4-57c8-4108-8778-e9962c4fa6e2"
      },
      "execution_count": 4,
      "outputs": [
        {
          "output_type": "execute_result",
          "data": {
            "text/plain": [
              "       Diabetes_binary  HighBP  High Cholesterol  Cholesterol Check   BMI  \\\n",
              "10000              0.0     0.0               1.0                1.0  21.0   \n",
              "11691              0.0     0.0               0.0                1.0  27.0   \n",
              "20000              0.0     1.0               0.0                1.0  26.0   \n",
              "30000              0.0     0.0               0.0                1.0  22.0   \n",
              "40000              1.0     1.0               0.0                1.0  32.0   \n",
              "50000              1.0     1.0               1.0                1.0   NaN   \n",
              "\n",
              "       Smoker  Stroke  HeartDiseaseorAttack  Physical Activity  Fruits  ...  \\\n",
              "10000     1.0     1.0                   0.0                0.0     NaN  ...   \n",
              "11691     0.0     0.0                   NaN                NaN     NaN  ...   \n",
              "20000     0.0     0.0                   0.0                1.0     1.0  ...   \n",
              "30000     0.0     0.0                   0.0                1.0     1.0  ...   \n",
              "40000     1.0     0.0                   0.0                0.0     1.0  ...   \n",
              "50000     0.0     0.0                   0.0                0.0     1.0  ...   \n",
              "\n",
              "       Any Health Care  No Doctor because of Cost  General Health  \\\n",
              "10000              1.0                        0.0             Low   \n",
              "11691              NaN                        NaN             NaN   \n",
              "20000              NaN                        0.0            Good   \n",
              "30000              1.0                        NaN            Good   \n",
              "40000              1.0                        0.0          Medium   \n",
              "50000              1.0                        0.0          Medium   \n",
              "\n",
              "       Mental Health Physical Health  Difficulty Walking     Sex   Age  \\\n",
              "10000            0.0            30.0                 0.0    male  13.0   \n",
              "11691            NaN             NaN                 NaN     NaN   NaN   \n",
              "20000            0.0             0.0                 1.0  female  13.0   \n",
              "30000            0.0             0.0                 0.0  female   6.0   \n",
              "40000            0.0             0.0                 NaN    male   8.0   \n",
              "50000            2.0             2.0                 0.0  female   9.0   \n",
              "\n",
              "      Education  Income  \n",
              "10000      Cat5    Cat7  \n",
              "11691       NaN     NaN  \n",
              "20000      Cat3    Cat5  \n",
              "30000      Cat6    Cat5  \n",
              "40000      Cat5    Cat7  \n",
              "50000      Cat6    Cat8  \n",
              "\n",
              "[6 rows x 22 columns]"
            ],
            "text/html": [
              "\n",
              "  <div id=\"df-2f9e8cf8-cbd3-4afd-b8ed-aaee66db7610\">\n",
              "    <div class=\"colab-df-container\">\n",
              "      <div>\n",
              "<style scoped>\n",
              "    .dataframe tbody tr th:only-of-type {\n",
              "        vertical-align: middle;\n",
              "    }\n",
              "\n",
              "    .dataframe tbody tr th {\n",
              "        vertical-align: top;\n",
              "    }\n",
              "\n",
              "    .dataframe thead th {\n",
              "        text-align: right;\n",
              "    }\n",
              "</style>\n",
              "<table border=\"1\" class=\"dataframe\">\n",
              "  <thead>\n",
              "    <tr style=\"text-align: right;\">\n",
              "      <th></th>\n",
              "      <th>Diabetes_binary</th>\n",
              "      <th>HighBP</th>\n",
              "      <th>High Cholesterol</th>\n",
              "      <th>Cholesterol Check</th>\n",
              "      <th>BMI</th>\n",
              "      <th>Smoker</th>\n",
              "      <th>Stroke</th>\n",
              "      <th>HeartDiseaseorAttack</th>\n",
              "      <th>Physical Activity</th>\n",
              "      <th>Fruits</th>\n",
              "      <th>...</th>\n",
              "      <th>Any Health Care</th>\n",
              "      <th>No Doctor because of Cost</th>\n",
              "      <th>General Health</th>\n",
              "      <th>Mental Health</th>\n",
              "      <th>Physical Health</th>\n",
              "      <th>Difficulty Walking</th>\n",
              "      <th>Sex</th>\n",
              "      <th>Age</th>\n",
              "      <th>Education</th>\n",
              "      <th>Income</th>\n",
              "    </tr>\n",
              "  </thead>\n",
              "  <tbody>\n",
              "    <tr>\n",
              "      <th>10000</th>\n",
              "      <td>0.0</td>\n",
              "      <td>0.0</td>\n",
              "      <td>1.0</td>\n",
              "      <td>1.0</td>\n",
              "      <td>21.0</td>\n",
              "      <td>1.0</td>\n",
              "      <td>1.0</td>\n",
              "      <td>0.0</td>\n",
              "      <td>0.0</td>\n",
              "      <td>NaN</td>\n",
              "      <td>...</td>\n",
              "      <td>1.0</td>\n",
              "      <td>0.0</td>\n",
              "      <td>Low</td>\n",
              "      <td>0.0</td>\n",
              "      <td>30.0</td>\n",
              "      <td>0.0</td>\n",
              "      <td>male</td>\n",
              "      <td>13.0</td>\n",
              "      <td>Cat5</td>\n",
              "      <td>Cat7</td>\n",
              "    </tr>\n",
              "    <tr>\n",
              "      <th>11691</th>\n",
              "      <td>0.0</td>\n",
              "      <td>0.0</td>\n",
              "      <td>0.0</td>\n",
              "      <td>1.0</td>\n",
              "      <td>27.0</td>\n",
              "      <td>0.0</td>\n",
              "      <td>0.0</td>\n",
              "      <td>NaN</td>\n",
              "      <td>NaN</td>\n",
              "      <td>NaN</td>\n",
              "      <td>...</td>\n",
              "      <td>NaN</td>\n",
              "      <td>NaN</td>\n",
              "      <td>NaN</td>\n",
              "      <td>NaN</td>\n",
              "      <td>NaN</td>\n",
              "      <td>NaN</td>\n",
              "      <td>NaN</td>\n",
              "      <td>NaN</td>\n",
              "      <td>NaN</td>\n",
              "      <td>NaN</td>\n",
              "    </tr>\n",
              "    <tr>\n",
              "      <th>20000</th>\n",
              "      <td>0.0</td>\n",
              "      <td>1.0</td>\n",
              "      <td>0.0</td>\n",
              "      <td>1.0</td>\n",
              "      <td>26.0</td>\n",
              "      <td>0.0</td>\n",
              "      <td>0.0</td>\n",
              "      <td>0.0</td>\n",
              "      <td>1.0</td>\n",
              "      <td>1.0</td>\n",
              "      <td>...</td>\n",
              "      <td>NaN</td>\n",
              "      <td>0.0</td>\n",
              "      <td>Good</td>\n",
              "      <td>0.0</td>\n",
              "      <td>0.0</td>\n",
              "      <td>1.0</td>\n",
              "      <td>female</td>\n",
              "      <td>13.0</td>\n",
              "      <td>Cat3</td>\n",
              "      <td>Cat5</td>\n",
              "    </tr>\n",
              "    <tr>\n",
              "      <th>30000</th>\n",
              "      <td>0.0</td>\n",
              "      <td>0.0</td>\n",
              "      <td>0.0</td>\n",
              "      <td>1.0</td>\n",
              "      <td>22.0</td>\n",
              "      <td>0.0</td>\n",
              "      <td>0.0</td>\n",
              "      <td>0.0</td>\n",
              "      <td>1.0</td>\n",
              "      <td>1.0</td>\n",
              "      <td>...</td>\n",
              "      <td>1.0</td>\n",
              "      <td>NaN</td>\n",
              "      <td>Good</td>\n",
              "      <td>0.0</td>\n",
              "      <td>0.0</td>\n",
              "      <td>0.0</td>\n",
              "      <td>female</td>\n",
              "      <td>6.0</td>\n",
              "      <td>Cat6</td>\n",
              "      <td>Cat5</td>\n",
              "    </tr>\n",
              "    <tr>\n",
              "      <th>40000</th>\n",
              "      <td>1.0</td>\n",
              "      <td>1.0</td>\n",
              "      <td>0.0</td>\n",
              "      <td>1.0</td>\n",
              "      <td>32.0</td>\n",
              "      <td>1.0</td>\n",
              "      <td>0.0</td>\n",
              "      <td>0.0</td>\n",
              "      <td>0.0</td>\n",
              "      <td>1.0</td>\n",
              "      <td>...</td>\n",
              "      <td>1.0</td>\n",
              "      <td>0.0</td>\n",
              "      <td>Medium</td>\n",
              "      <td>0.0</td>\n",
              "      <td>0.0</td>\n",
              "      <td>NaN</td>\n",
              "      <td>male</td>\n",
              "      <td>8.0</td>\n",
              "      <td>Cat5</td>\n",
              "      <td>Cat7</td>\n",
              "    </tr>\n",
              "    <tr>\n",
              "      <th>50000</th>\n",
              "      <td>1.0</td>\n",
              "      <td>1.0</td>\n",
              "      <td>1.0</td>\n",
              "      <td>1.0</td>\n",
              "      <td>NaN</td>\n",
              "      <td>0.0</td>\n",
              "      <td>0.0</td>\n",
              "      <td>0.0</td>\n",
              "      <td>0.0</td>\n",
              "      <td>1.0</td>\n",
              "      <td>...</td>\n",
              "      <td>1.0</td>\n",
              "      <td>0.0</td>\n",
              "      <td>Medium</td>\n",
              "      <td>2.0</td>\n",
              "      <td>2.0</td>\n",
              "      <td>0.0</td>\n",
              "      <td>female</td>\n",
              "      <td>9.0</td>\n",
              "      <td>Cat6</td>\n",
              "      <td>Cat8</td>\n",
              "    </tr>\n",
              "  </tbody>\n",
              "</table>\n",
              "<p>6 rows × 22 columns</p>\n",
              "</div>\n",
              "      <button class=\"colab-df-convert\" onclick=\"convertToInteractive('df-2f9e8cf8-cbd3-4afd-b8ed-aaee66db7610')\"\n",
              "              title=\"Convert this dataframe to an interactive table.\"\n",
              "              style=\"display:none;\">\n",
              "        \n",
              "  <svg xmlns=\"http://www.w3.org/2000/svg\" height=\"24px\"viewBox=\"0 0 24 24\"\n",
              "       width=\"24px\">\n",
              "    <path d=\"M0 0h24v24H0V0z\" fill=\"none\"/>\n",
              "    <path d=\"M18.56 5.44l.94 2.06.94-2.06 2.06-.94-2.06-.94-.94-2.06-.94 2.06-2.06.94zm-11 1L8.5 8.5l.94-2.06 2.06-.94-2.06-.94L8.5 2.5l-.94 2.06-2.06.94zm10 10l.94 2.06.94-2.06 2.06-.94-2.06-.94-.94-2.06-.94 2.06-2.06.94z\"/><path d=\"M17.41 7.96l-1.37-1.37c-.4-.4-.92-.59-1.43-.59-.52 0-1.04.2-1.43.59L10.3 9.45l-7.72 7.72c-.78.78-.78 2.05 0 2.83L4 21.41c.39.39.9.59 1.41.59.51 0 1.02-.2 1.41-.59l7.78-7.78 2.81-2.81c.8-.78.8-2.07 0-2.86zM5.41 20L4 18.59l7.72-7.72 1.47 1.35L5.41 20z\"/>\n",
              "  </svg>\n",
              "      </button>\n",
              "      \n",
              "  <style>\n",
              "    .colab-df-container {\n",
              "      display:flex;\n",
              "      flex-wrap:wrap;\n",
              "      gap: 12px;\n",
              "    }\n",
              "\n",
              "    .colab-df-convert {\n",
              "      background-color: #E8F0FE;\n",
              "      border: none;\n",
              "      border-radius: 50%;\n",
              "      cursor: pointer;\n",
              "      display: none;\n",
              "      fill: #1967D2;\n",
              "      height: 32px;\n",
              "      padding: 0 0 0 0;\n",
              "      width: 32px;\n",
              "    }\n",
              "\n",
              "    .colab-df-convert:hover {\n",
              "      background-color: #E2EBFA;\n",
              "      box-shadow: 0px 1px 2px rgba(60, 64, 67, 0.3), 0px 1px 3px 1px rgba(60, 64, 67, 0.15);\n",
              "      fill: #174EA6;\n",
              "    }\n",
              "\n",
              "    [theme=dark] .colab-df-convert {\n",
              "      background-color: #3B4455;\n",
              "      fill: #D2E3FC;\n",
              "    }\n",
              "\n",
              "    [theme=dark] .colab-df-convert:hover {\n",
              "      background-color: #434B5C;\n",
              "      box-shadow: 0px 1px 3px 1px rgba(0, 0, 0, 0.15);\n",
              "      filter: drop-shadow(0px 1px 2px rgba(0, 0, 0, 0.3));\n",
              "      fill: #FFFFFF;\n",
              "    }\n",
              "  </style>\n",
              "\n",
              "      <script>\n",
              "        const buttonEl =\n",
              "          document.querySelector('#df-2f9e8cf8-cbd3-4afd-b8ed-aaee66db7610 button.colab-df-convert');\n",
              "        buttonEl.style.display =\n",
              "          google.colab.kernel.accessAllowed ? 'block' : 'none';\n",
              "\n",
              "        async function convertToInteractive(key) {\n",
              "          const element = document.querySelector('#df-2f9e8cf8-cbd3-4afd-b8ed-aaee66db7610');\n",
              "          const dataTable =\n",
              "            await google.colab.kernel.invokeFunction('convertToInteractive',\n",
              "                                                     [key], {});\n",
              "          if (!dataTable) return;\n",
              "\n",
              "          const docLinkHtml = 'Like what you see? Visit the ' +\n",
              "            '<a target=\"_blank\" href=https://colab.research.google.com/notebooks/data_table.ipynb>data table notebook</a>'\n",
              "            + ' to learn more about interactive tables.';\n",
              "          element.innerHTML = '';\n",
              "          dataTable['output_type'] = 'display_data';\n",
              "          await google.colab.output.renderOutput(dataTable, element);\n",
              "          const docLink = document.createElement('div');\n",
              "          docLink.innerHTML = docLinkHtml;\n",
              "          element.appendChild(docLink);\n",
              "        }\n",
              "      </script>\n",
              "    </div>\n",
              "  </div>\n",
              "  "
            ]
          },
          "metadata": {},
          "execution_count": 4
        }
      ]
    },
    {
      "cell_type": "markdown",
      "source": [
        "#### همانطور که می‌بینیم، ردیف 11691 تعداد داده‌های پوچ زیادی در ستون‌های خود دارد پس آن را حذف می کنیم."
      ],
      "metadata": {
        "id": "KRaWB4VhNsQ_"
      }
    },
    {
      "cell_type": "code",
      "source": [
        "diabetes_data = diabetes_data.drop(11691)"
      ],
      "metadata": {
        "id": "x7m6mBQ3N3KX"
      },
      "execution_count": 5,
      "outputs": []
    },
    {
      "cell_type": "markdown",
      "source": [
        "#### Impute missing continuous values with Mean"
      ],
      "metadata": {
        "id": "PFV1aiTzh7Bh"
      }
    },
    {
      "cell_type": "markdown",
      "source": [
        "#### می‌دانیم که برای داده‌های عددی پیوسته (یا مقادیری مثل سن) می‌توانیم از روش میانگین‌گیری استفاده کنیم. پس این ستون‌ها را جدا کرده و مقادیر پوچ درون آنها را با میانگین کل مقادیرشان جایگزین می‌کنیم."
      ],
      "metadata": {
        "id": "MErd8sgl6Kg8"
      }
    },
    {
      "cell_type": "code",
      "source": [
        "continuous_cols = ['BMI', 'Mental Health', 'Physical Health', 'Age']\n",
        "for col in continuous_cols:\n",
        "  diabetes_data[col].fillna(diabetes_data[col].mean(), inplace = True)"
      ],
      "metadata": {
        "id": "9KcNFa1rv77p"
      },
      "execution_count": 6,
      "outputs": []
    },
    {
      "cell_type": "code",
      "source": [
        "diabetes_data.isnull().sum()"
      ],
      "metadata": {
        "colab": {
          "base_uri": "https://localhost:8080/"
        },
        "id": "-3Rz8wKP075N",
        "outputId": "975699d8-1423-4bba-baf9-dba762942049"
      },
      "execution_count": 7,
      "outputs": [
        {
          "output_type": "execute_result",
          "data": {
            "text/plain": [
              "Diabetes_binary              0\n",
              "HighBP                       0\n",
              "High Cholesterol             0\n",
              "Cholesterol Check            0\n",
              "BMI                          0\n",
              "Smoker                       0\n",
              "Stroke                       0\n",
              "HeartDiseaseorAttack         0\n",
              "Physical Activity            0\n",
              "Fruits                       1\n",
              "Veggies                      0\n",
              "Heavy Alcohol Consumption    0\n",
              "Any Health Care              1\n",
              "No Doctor because of Cost    1\n",
              "General Health               0\n",
              "Mental Health                0\n",
              "Physical Health              0\n",
              "Difficulty Walking           1\n",
              "Sex                          0\n",
              "Age                          0\n",
              "Education                    0\n",
              "Income                       0\n",
              "dtype: int64"
            ]
          },
          "metadata": {},
          "execution_count": 7
        }
      ]
    },
    {
      "cell_type": "markdown",
      "source": [
        "#### می‌بینیم که تمامی مقادیر عددی پیوسته پوچ با میانگین کل مقادیرشان جایگزین شده‌اند و دیگر مقدار پوچ ندارند.\n"
      ],
      "metadata": {
        "id": "xms8xdf23v3H"
      }
    },
    {
      "cell_type": "markdown",
      "source": [
        "#### Impute missing categorical values with the most frequent category"
      ],
      "metadata": {
        "id": "wNAKa_QM4NUi"
      }
    },
    {
      "cell_type": "code",
      "source": [
        "categorical_cols = [x for x in list(diabetes_data.columns) if x not in continuous_cols]"
      ],
      "metadata": {
        "id": "_FER2FE_-tCF"
      },
      "execution_count": 8,
      "outputs": []
    },
    {
      "cell_type": "code",
      "source": [
        "for col in categorical_cols:\n",
        "  diabetes_data[col] = diabetes_data[col].astype('category')\n",
        "  diabetes_data[col] = diabetes_data[col].cat.codes\n",
        "  diabetes_data[col].fillna(diabetes_data[col].median(), inplace = True)"
      ],
      "metadata": {
        "id": "ghfC2m50072_"
      },
      "execution_count": 9,
      "outputs": []
    },
    {
      "cell_type": "code",
      "source": [
        "categorical_cols"
      ],
      "metadata": {
        "colab": {
          "base_uri": "https://localhost:8080/"
        },
        "id": "Bg2RYe0-9r4T",
        "outputId": "384f054f-8184-4d68-f9d9-53764da786d4"
      },
      "execution_count": 10,
      "outputs": [
        {
          "output_type": "execute_result",
          "data": {
            "text/plain": [
              "['Diabetes_binary',\n",
              " 'HighBP',\n",
              " 'High Cholesterol',\n",
              " 'Cholesterol Check',\n",
              " 'Smoker',\n",
              " 'Stroke',\n",
              " 'HeartDiseaseorAttack',\n",
              " 'Physical Activity',\n",
              " 'Fruits',\n",
              " 'Veggies',\n",
              " 'Heavy Alcohol Consumption',\n",
              " 'Any Health Care',\n",
              " 'No Doctor because of Cost',\n",
              " 'General Health',\n",
              " 'Difficulty Walking',\n",
              " 'Sex',\n",
              " 'Education',\n",
              " 'Income']"
            ]
          },
          "metadata": {},
          "execution_count": 10
        }
      ]
    },
    {
      "cell_type": "code",
      "source": [
        "diabetes_data.isnull().sum()"
      ],
      "metadata": {
        "colab": {
          "base_uri": "https://localhost:8080/"
        },
        "id": "kAUqRIge070v",
        "outputId": "20ee14d3-06ae-4d29-a0b7-2e430373f6db"
      },
      "execution_count": 11,
      "outputs": [
        {
          "output_type": "execute_result",
          "data": {
            "text/plain": [
              "Diabetes_binary              0\n",
              "HighBP                       0\n",
              "High Cholesterol             0\n",
              "Cholesterol Check            0\n",
              "BMI                          0\n",
              "Smoker                       0\n",
              "Stroke                       0\n",
              "HeartDiseaseorAttack         0\n",
              "Physical Activity            0\n",
              "Fruits                       0\n",
              "Veggies                      0\n",
              "Heavy Alcohol Consumption    0\n",
              "Any Health Care              0\n",
              "No Doctor because of Cost    0\n",
              "General Health               0\n",
              "Mental Health                0\n",
              "Physical Health              0\n",
              "Difficulty Walking           0\n",
              "Sex                          0\n",
              "Age                          0\n",
              "Education                    0\n",
              "Income                       0\n",
              "dtype: int64"
            ]
          },
          "metadata": {},
          "execution_count": 11
        }
      ]
    },
    {
      "cell_type": "markdown",
      "source": [
        "#### به این ترتیب تمامی داده‌های پوچ را با مقادیر نسبتا مناسب جایگزین کردیم."
      ],
      "metadata": {
        "id": "mkIiWg3JOgEx"
      }
    },
    {
      "cell_type": "markdown",
      "source": [
        "### Replace white spaces in columns' names with '_'"
      ],
      "metadata": {
        "id": "pGXWnfYpq8aj"
      }
    },
    {
      "cell_type": "code",
      "source": [
        "colnames = diabetes_data.columns\n",
        "colnames"
      ],
      "metadata": {
        "id": "V68FYWeTrzr5",
        "colab": {
          "base_uri": "https://localhost:8080/"
        },
        "outputId": "04e1f4e9-778f-4f1d-b7d6-8ba5f8cf6890"
      },
      "execution_count": 12,
      "outputs": [
        {
          "output_type": "execute_result",
          "data": {
            "text/plain": [
              "Index(['Diabetes_binary', 'HighBP', 'High Cholesterol', 'Cholesterol Check',\n",
              "       'BMI', 'Smoker', 'Stroke', 'HeartDiseaseorAttack', 'Physical Activity',\n",
              "       'Fruits', 'Veggies', 'Heavy Alcohol Consumption', 'Any Health Care',\n",
              "       'No Doctor because of Cost', 'General Health', 'Mental Health',\n",
              "       'Physical Health', 'Difficulty Walking', 'Sex', 'Age', 'Education',\n",
              "       'Income'],\n",
              "      dtype='object')"
            ]
          },
          "metadata": {},
          "execution_count": 12
        }
      ]
    },
    {
      "cell_type": "code",
      "source": [
        "diabetes_data.columns = diabetes_data.columns.str.replace(' ', '_')"
      ],
      "metadata": {
        "id": "OPaOz4p-iXLL"
      },
      "execution_count": 13,
      "outputs": []
    },
    {
      "cell_type": "code",
      "source": [
        "diabetes_data.columns"
      ],
      "metadata": {
        "id": "ZDFDA5RSrG_A",
        "colab": {
          "base_uri": "https://localhost:8080/"
        },
        "outputId": "776e461f-698b-4bae-e834-5e2ebb24b020"
      },
      "execution_count": 14,
      "outputs": [
        {
          "output_type": "execute_result",
          "data": {
            "text/plain": [
              "Index(['Diabetes_binary', 'HighBP', 'High_Cholesterol', 'Cholesterol_Check',\n",
              "       'BMI', 'Smoker', 'Stroke', 'HeartDiseaseorAttack', 'Physical_Activity',\n",
              "       'Fruits', 'Veggies', 'Heavy_Alcohol_Consumption', 'Any_Health_Care',\n",
              "       'No_Doctor_because_of_Cost', 'General_Health', 'Mental_Health',\n",
              "       'Physical_Health', 'Difficulty_Walking', 'Sex', 'Age', 'Education',\n",
              "       'Income'],\n",
              "      dtype='object')"
            ]
          },
          "metadata": {},
          "execution_count": 14
        }
      ]
    },
    {
      "cell_type": "markdown",
      "source": [
        "### Normalizing/Scaling"
      ],
      "metadata": {
        "id": "ZhiBziFIuyhZ"
      }
    },
    {
      "cell_type": "markdown",
      "source": [
        "#### Get max and min vales in every column"
      ],
      "metadata": {
        "id": "AUpoUqnOvd8x"
      }
    },
    {
      "cell_type": "code",
      "source": [
        "diabetes_data.agg(['min','max'])"
      ],
      "metadata": {
        "id": "lz0LNLQzvgoO",
        "colab": {
          "base_uri": "https://localhost:8080/",
          "height": 204
        },
        "outputId": "021635d9-94e6-4f39-f23b-31a4fdd2330b"
      },
      "execution_count": 15,
      "outputs": [
        {
          "output_type": "execute_result",
          "data": {
            "text/plain": [
              "     Diabetes_binary  HighBP  High_Cholesterol  Cholesterol_Check   BMI  \\\n",
              "min                0       0                 0                  0  12.0   \n",
              "max                1       1                 1                  1  98.0   \n",
              "\n",
              "     Smoker  Stroke  HeartDiseaseorAttack  Physical_Activity  Fruits  ...  \\\n",
              "min       0       0                     0                  0      -1  ...   \n",
              "max       1       1                     1                  1       1  ...   \n",
              "\n",
              "     Any_Health_Care  No_Doctor_because_of_Cost  General_Health  \\\n",
              "min               -1                         -1               0   \n",
              "max                1                          1               4   \n",
              "\n",
              "     Mental_Health  Physical_Health  Difficulty_Walking  Sex   Age  Education  \\\n",
              "min            0.0              0.0                  -1    0   1.0          0   \n",
              "max           30.0             30.0                   1    1  13.0          5   \n",
              "\n",
              "     Income  \n",
              "min       0  \n",
              "max       8  \n",
              "\n",
              "[2 rows x 22 columns]"
            ],
            "text/html": [
              "\n",
              "  <div id=\"df-34ec56c2-92a2-4509-88b0-dc6004604458\">\n",
              "    <div class=\"colab-df-container\">\n",
              "      <div>\n",
              "<style scoped>\n",
              "    .dataframe tbody tr th:only-of-type {\n",
              "        vertical-align: middle;\n",
              "    }\n",
              "\n",
              "    .dataframe tbody tr th {\n",
              "        vertical-align: top;\n",
              "    }\n",
              "\n",
              "    .dataframe thead th {\n",
              "        text-align: right;\n",
              "    }\n",
              "</style>\n",
              "<table border=\"1\" class=\"dataframe\">\n",
              "  <thead>\n",
              "    <tr style=\"text-align: right;\">\n",
              "      <th></th>\n",
              "      <th>Diabetes_binary</th>\n",
              "      <th>HighBP</th>\n",
              "      <th>High_Cholesterol</th>\n",
              "      <th>Cholesterol_Check</th>\n",
              "      <th>BMI</th>\n",
              "      <th>Smoker</th>\n",
              "      <th>Stroke</th>\n",
              "      <th>HeartDiseaseorAttack</th>\n",
              "      <th>Physical_Activity</th>\n",
              "      <th>Fruits</th>\n",
              "      <th>...</th>\n",
              "      <th>Any_Health_Care</th>\n",
              "      <th>No_Doctor_because_of_Cost</th>\n",
              "      <th>General_Health</th>\n",
              "      <th>Mental_Health</th>\n",
              "      <th>Physical_Health</th>\n",
              "      <th>Difficulty_Walking</th>\n",
              "      <th>Sex</th>\n",
              "      <th>Age</th>\n",
              "      <th>Education</th>\n",
              "      <th>Income</th>\n",
              "    </tr>\n",
              "  </thead>\n",
              "  <tbody>\n",
              "    <tr>\n",
              "      <th>min</th>\n",
              "      <td>0</td>\n",
              "      <td>0</td>\n",
              "      <td>0</td>\n",
              "      <td>0</td>\n",
              "      <td>12.0</td>\n",
              "      <td>0</td>\n",
              "      <td>0</td>\n",
              "      <td>0</td>\n",
              "      <td>0</td>\n",
              "      <td>-1</td>\n",
              "      <td>...</td>\n",
              "      <td>-1</td>\n",
              "      <td>-1</td>\n",
              "      <td>0</td>\n",
              "      <td>0.0</td>\n",
              "      <td>0.0</td>\n",
              "      <td>-1</td>\n",
              "      <td>0</td>\n",
              "      <td>1.0</td>\n",
              "      <td>0</td>\n",
              "      <td>0</td>\n",
              "    </tr>\n",
              "    <tr>\n",
              "      <th>max</th>\n",
              "      <td>1</td>\n",
              "      <td>1</td>\n",
              "      <td>1</td>\n",
              "      <td>1</td>\n",
              "      <td>98.0</td>\n",
              "      <td>1</td>\n",
              "      <td>1</td>\n",
              "      <td>1</td>\n",
              "      <td>1</td>\n",
              "      <td>1</td>\n",
              "      <td>...</td>\n",
              "      <td>1</td>\n",
              "      <td>1</td>\n",
              "      <td>4</td>\n",
              "      <td>30.0</td>\n",
              "      <td>30.0</td>\n",
              "      <td>1</td>\n",
              "      <td>1</td>\n",
              "      <td>13.0</td>\n",
              "      <td>5</td>\n",
              "      <td>8</td>\n",
              "    </tr>\n",
              "  </tbody>\n",
              "</table>\n",
              "<p>2 rows × 22 columns</p>\n",
              "</div>\n",
              "      <button class=\"colab-df-convert\" onclick=\"convertToInteractive('df-34ec56c2-92a2-4509-88b0-dc6004604458')\"\n",
              "              title=\"Convert this dataframe to an interactive table.\"\n",
              "              style=\"display:none;\">\n",
              "        \n",
              "  <svg xmlns=\"http://www.w3.org/2000/svg\" height=\"24px\"viewBox=\"0 0 24 24\"\n",
              "       width=\"24px\">\n",
              "    <path d=\"M0 0h24v24H0V0z\" fill=\"none\"/>\n",
              "    <path d=\"M18.56 5.44l.94 2.06.94-2.06 2.06-.94-2.06-.94-.94-2.06-.94 2.06-2.06.94zm-11 1L8.5 8.5l.94-2.06 2.06-.94-2.06-.94L8.5 2.5l-.94 2.06-2.06.94zm10 10l.94 2.06.94-2.06 2.06-.94-2.06-.94-.94-2.06-.94 2.06-2.06.94z\"/><path d=\"M17.41 7.96l-1.37-1.37c-.4-.4-.92-.59-1.43-.59-.52 0-1.04.2-1.43.59L10.3 9.45l-7.72 7.72c-.78.78-.78 2.05 0 2.83L4 21.41c.39.39.9.59 1.41.59.51 0 1.02-.2 1.41-.59l7.78-7.78 2.81-2.81c.8-.78.8-2.07 0-2.86zM5.41 20L4 18.59l7.72-7.72 1.47 1.35L5.41 20z\"/>\n",
              "  </svg>\n",
              "      </button>\n",
              "      \n",
              "  <style>\n",
              "    .colab-df-container {\n",
              "      display:flex;\n",
              "      flex-wrap:wrap;\n",
              "      gap: 12px;\n",
              "    }\n",
              "\n",
              "    .colab-df-convert {\n",
              "      background-color: #E8F0FE;\n",
              "      border: none;\n",
              "      border-radius: 50%;\n",
              "      cursor: pointer;\n",
              "      display: none;\n",
              "      fill: #1967D2;\n",
              "      height: 32px;\n",
              "      padding: 0 0 0 0;\n",
              "      width: 32px;\n",
              "    }\n",
              "\n",
              "    .colab-df-convert:hover {\n",
              "      background-color: #E2EBFA;\n",
              "      box-shadow: 0px 1px 2px rgba(60, 64, 67, 0.3), 0px 1px 3px 1px rgba(60, 64, 67, 0.15);\n",
              "      fill: #174EA6;\n",
              "    }\n",
              "\n",
              "    [theme=dark] .colab-df-convert {\n",
              "      background-color: #3B4455;\n",
              "      fill: #D2E3FC;\n",
              "    }\n",
              "\n",
              "    [theme=dark] .colab-df-convert:hover {\n",
              "      background-color: #434B5C;\n",
              "      box-shadow: 0px 1px 3px 1px rgba(0, 0, 0, 0.15);\n",
              "      filter: drop-shadow(0px 1px 2px rgba(0, 0, 0, 0.3));\n",
              "      fill: #FFFFFF;\n",
              "    }\n",
              "  </style>\n",
              "\n",
              "      <script>\n",
              "        const buttonEl =\n",
              "          document.querySelector('#df-34ec56c2-92a2-4509-88b0-dc6004604458 button.colab-df-convert');\n",
              "        buttonEl.style.display =\n",
              "          google.colab.kernel.accessAllowed ? 'block' : 'none';\n",
              "\n",
              "        async function convertToInteractive(key) {\n",
              "          const element = document.querySelector('#df-34ec56c2-92a2-4509-88b0-dc6004604458');\n",
              "          const dataTable =\n",
              "            await google.colab.kernel.invokeFunction('convertToInteractive',\n",
              "                                                     [key], {});\n",
              "          if (!dataTable) return;\n",
              "\n",
              "          const docLinkHtml = 'Like what you see? Visit the ' +\n",
              "            '<a target=\"_blank\" href=https://colab.research.google.com/notebooks/data_table.ipynb>data table notebook</a>'\n",
              "            + ' to learn more about interactive tables.';\n",
              "          element.innerHTML = '';\n",
              "          dataTable['output_type'] = 'display_data';\n",
              "          await google.colab.output.renderOutput(dataTable, element);\n",
              "          const docLink = document.createElement('div');\n",
              "          docLink.innerHTML = docLinkHtml;\n",
              "          element.appendChild(docLink);\n",
              "        }\n",
              "      </script>\n",
              "    </div>\n",
              "  </div>\n",
              "  "
            ]
          },
          "metadata": {},
          "execution_count": 15
        }
      ]
    },
    {
      "cell_type": "markdown",
      "source": [
        "#### BMI: 12-98, \n",
        "####            Mental Health: 0-30,      \n",
        "####            Physical Health: 0-30,  \n",
        "#### Age: 1.0-13.0  \n",
        "#### So we need to scale these variables into 0 to 1        "
      ],
      "metadata": {
        "id": "fFHHAr1swKA7"
      }
    },
    {
      "cell_type": "markdown",
      "source": [
        "#### به دلیل آنکه بیشتر مقادیر عددی در بازه 0 تا 1 قرار دارند، پس بقیه مقادیر را نیز به این بازه مپ می‌کنیم."
      ],
      "metadata": {
        "id": "5FmLQ_mAQxtm"
      }
    },
    {
      "cell_type": "code",
      "source": [
        "cols_to_scale = ['BMI', 'Mental_Health', 'Physical_Health', 'Age']\n",
        "a, b = 0, 1\n",
        "\n",
        "for col in cols_to_scale:\n",
        "  x, y = diabetes_data[col].min(), diabetes_data[col].max()\n",
        "  diabetes_data[col] = (diabetes_data[col] - x) / (y - x) * (b - a) + a"
      ],
      "metadata": {
        "id": "l-IMuvTCsA2S"
      },
      "execution_count": 16,
      "outputs": []
    },
    {
      "cell_type": "code",
      "source": [
        "diabetes_data"
      ],
      "metadata": {
        "id": "eZNuGdoTsxPz",
        "colab": {
          "base_uri": "https://localhost:8080/",
          "height": 483
        },
        "outputId": "0d55d9d2-f542-46dc-d400-6bf239fd79c4"
      },
      "execution_count": 17,
      "outputs": [
        {
          "output_type": "execute_result",
          "data": {
            "text/plain": [
              "       Diabetes_binary  HighBP  High_Cholesterol  Cholesterol_Check       BMI  \\\n",
              "0                    0       1                 0                  1  0.162791   \n",
              "1                    0       1                 1                  1  0.162791   \n",
              "2                    0       0                 0                  1  0.162791   \n",
              "3                    0       1                 1                  1  0.186047   \n",
              "4                    0       0                 0                  1  0.197674   \n",
              "...                ...     ...               ...                ...       ...   \n",
              "70687                1       0                 1                  1  0.290698   \n",
              "70688                1       0                 1                  1  0.197674   \n",
              "70689                1       1                 1                  1  0.151163   \n",
              "70690                1       1                 1                  1  0.069767   \n",
              "70691                1       1                 1                  1  0.151163   \n",
              "\n",
              "       Smoker  Stroke  HeartDiseaseorAttack  Physical_Activity  Fruits  ...  \\\n",
              "0           0       0                     0                  1       0  ...   \n",
              "1           1       1                     0                  0       1  ...   \n",
              "2           0       0                     0                  1       1  ...   \n",
              "3           1       0                     0                  1       1  ...   \n",
              "4           1       0                     0                  1       1  ...   \n",
              "...       ...     ...                   ...                ...     ...  ...   \n",
              "70687       0       0                     0                  0       0  ...   \n",
              "70688       1       0                     1                  0       1  ...   \n",
              "70689       0       0                     1                  0       1  ...   \n",
              "70690       0       0                     0                  0       0  ...   \n",
              "70691       0       0                     1                  1       1  ...   \n",
              "\n",
              "       Any_Health_Care  No_Doctor_because_of_Cost  General_Health  \\\n",
              "0                    1                          0               3   \n",
              "1                    1                          0               3   \n",
              "2                    1                          0               1   \n",
              "3                    1                          0               3   \n",
              "4                    1                          0               0   \n",
              "...                ...                        ...             ...   \n",
              "70687                1                          0               2   \n",
              "70688                1                          0               0   \n",
              "70689                1                          0               4   \n",
              "70690                1                          0               2   \n",
              "70691                1                          0               0   \n",
              "\n",
              "       Mental_Health  Physical_Health  Difficulty_Walking  Sex       Age  \\\n",
              "0           0.166667         1.000000                   0    1  0.250000   \n",
              "1           0.000000         0.000000                   0    1  0.916667   \n",
              "2           0.000000         0.333333                   0    1  1.000000   \n",
              "3           0.000000         0.100000                   0    1  0.833333   \n",
              "4           0.000000         0.000000                   0    0  0.583333   \n",
              "...              ...              ...                 ...  ...       ...   \n",
              "70687       0.000000         0.000000                   0    0  0.416667   \n",
              "70688       0.000000         0.000000                   1    1  0.750000   \n",
              "70689       0.500000         0.000000                   1    0  1.000000   \n",
              "70690       0.000000         0.000000                   1    0  0.833333   \n",
              "70691       0.000000         0.000000                   0    0  0.666667   \n",
              "\n",
              "       Education  Income  \n",
              "0              5       7  \n",
              "1              5       7  \n",
              "2              5       7  \n",
              "3              5       7  \n",
              "4              4       7  \n",
              "...          ...     ...  \n",
              "70687          3       0  \n",
              "70688          2       5  \n",
              "70689          5       3  \n",
              "70690          1       3  \n",
              "70691          5       1  \n",
              "\n",
              "[70691 rows x 22 columns]"
            ],
            "text/html": [
              "\n",
              "  <div id=\"df-9fe36f85-bbac-4535-aff8-298c33ccc522\">\n",
              "    <div class=\"colab-df-container\">\n",
              "      <div>\n",
              "<style scoped>\n",
              "    .dataframe tbody tr th:only-of-type {\n",
              "        vertical-align: middle;\n",
              "    }\n",
              "\n",
              "    .dataframe tbody tr th {\n",
              "        vertical-align: top;\n",
              "    }\n",
              "\n",
              "    .dataframe thead th {\n",
              "        text-align: right;\n",
              "    }\n",
              "</style>\n",
              "<table border=\"1\" class=\"dataframe\">\n",
              "  <thead>\n",
              "    <tr style=\"text-align: right;\">\n",
              "      <th></th>\n",
              "      <th>Diabetes_binary</th>\n",
              "      <th>HighBP</th>\n",
              "      <th>High_Cholesterol</th>\n",
              "      <th>Cholesterol_Check</th>\n",
              "      <th>BMI</th>\n",
              "      <th>Smoker</th>\n",
              "      <th>Stroke</th>\n",
              "      <th>HeartDiseaseorAttack</th>\n",
              "      <th>Physical_Activity</th>\n",
              "      <th>Fruits</th>\n",
              "      <th>...</th>\n",
              "      <th>Any_Health_Care</th>\n",
              "      <th>No_Doctor_because_of_Cost</th>\n",
              "      <th>General_Health</th>\n",
              "      <th>Mental_Health</th>\n",
              "      <th>Physical_Health</th>\n",
              "      <th>Difficulty_Walking</th>\n",
              "      <th>Sex</th>\n",
              "      <th>Age</th>\n",
              "      <th>Education</th>\n",
              "      <th>Income</th>\n",
              "    </tr>\n",
              "  </thead>\n",
              "  <tbody>\n",
              "    <tr>\n",
              "      <th>0</th>\n",
              "      <td>0</td>\n",
              "      <td>1</td>\n",
              "      <td>0</td>\n",
              "      <td>1</td>\n",
              "      <td>0.162791</td>\n",
              "      <td>0</td>\n",
              "      <td>0</td>\n",
              "      <td>0</td>\n",
              "      <td>1</td>\n",
              "      <td>0</td>\n",
              "      <td>...</td>\n",
              "      <td>1</td>\n",
              "      <td>0</td>\n",
              "      <td>3</td>\n",
              "      <td>0.166667</td>\n",
              "      <td>1.000000</td>\n",
              "      <td>0</td>\n",
              "      <td>1</td>\n",
              "      <td>0.250000</td>\n",
              "      <td>5</td>\n",
              "      <td>7</td>\n",
              "    </tr>\n",
              "    <tr>\n",
              "      <th>1</th>\n",
              "      <td>0</td>\n",
              "      <td>1</td>\n",
              "      <td>1</td>\n",
              "      <td>1</td>\n",
              "      <td>0.162791</td>\n",
              "      <td>1</td>\n",
              "      <td>1</td>\n",
              "      <td>0</td>\n",
              "      <td>0</td>\n",
              "      <td>1</td>\n",
              "      <td>...</td>\n",
              "      <td>1</td>\n",
              "      <td>0</td>\n",
              "      <td>3</td>\n",
              "      <td>0.000000</td>\n",
              "      <td>0.000000</td>\n",
              "      <td>0</td>\n",
              "      <td>1</td>\n",
              "      <td>0.916667</td>\n",
              "      <td>5</td>\n",
              "      <td>7</td>\n",
              "    </tr>\n",
              "    <tr>\n",
              "      <th>2</th>\n",
              "      <td>0</td>\n",
              "      <td>0</td>\n",
              "      <td>0</td>\n",
              "      <td>1</td>\n",
              "      <td>0.162791</td>\n",
              "      <td>0</td>\n",
              "      <td>0</td>\n",
              "      <td>0</td>\n",
              "      <td>1</td>\n",
              "      <td>1</td>\n",
              "      <td>...</td>\n",
              "      <td>1</td>\n",
              "      <td>0</td>\n",
              "      <td>1</td>\n",
              "      <td>0.000000</td>\n",
              "      <td>0.333333</td>\n",
              "      <td>0</td>\n",
              "      <td>1</td>\n",
              "      <td>1.000000</td>\n",
              "      <td>5</td>\n",
              "      <td>7</td>\n",
              "    </tr>\n",
              "    <tr>\n",
              "      <th>3</th>\n",
              "      <td>0</td>\n",
              "      <td>1</td>\n",
              "      <td>1</td>\n",
              "      <td>1</td>\n",
              "      <td>0.186047</td>\n",
              "      <td>1</td>\n",
              "      <td>0</td>\n",
              "      <td>0</td>\n",
              "      <td>1</td>\n",
              "      <td>1</td>\n",
              "      <td>...</td>\n",
              "      <td>1</td>\n",
              "      <td>0</td>\n",
              "      <td>3</td>\n",
              "      <td>0.000000</td>\n",
              "      <td>0.100000</td>\n",
              "      <td>0</td>\n",
              "      <td>1</td>\n",
              "      <td>0.833333</td>\n",
              "      <td>5</td>\n",
              "      <td>7</td>\n",
              "    </tr>\n",
              "    <tr>\n",
              "      <th>4</th>\n",
              "      <td>0</td>\n",
              "      <td>0</td>\n",
              "      <td>0</td>\n",
              "      <td>1</td>\n",
              "      <td>0.197674</td>\n",
              "      <td>1</td>\n",
              "      <td>0</td>\n",
              "      <td>0</td>\n",
              "      <td>1</td>\n",
              "      <td>1</td>\n",
              "      <td>...</td>\n",
              "      <td>1</td>\n",
              "      <td>0</td>\n",
              "      <td>0</td>\n",
              "      <td>0.000000</td>\n",
              "      <td>0.000000</td>\n",
              "      <td>0</td>\n",
              "      <td>0</td>\n",
              "      <td>0.583333</td>\n",
              "      <td>4</td>\n",
              "      <td>7</td>\n",
              "    </tr>\n",
              "    <tr>\n",
              "      <th>...</th>\n",
              "      <td>...</td>\n",
              "      <td>...</td>\n",
              "      <td>...</td>\n",
              "      <td>...</td>\n",
              "      <td>...</td>\n",
              "      <td>...</td>\n",
              "      <td>...</td>\n",
              "      <td>...</td>\n",
              "      <td>...</td>\n",
              "      <td>...</td>\n",
              "      <td>...</td>\n",
              "      <td>...</td>\n",
              "      <td>...</td>\n",
              "      <td>...</td>\n",
              "      <td>...</td>\n",
              "      <td>...</td>\n",
              "      <td>...</td>\n",
              "      <td>...</td>\n",
              "      <td>...</td>\n",
              "      <td>...</td>\n",
              "      <td>...</td>\n",
              "    </tr>\n",
              "    <tr>\n",
              "      <th>70687</th>\n",
              "      <td>1</td>\n",
              "      <td>0</td>\n",
              "      <td>1</td>\n",
              "      <td>1</td>\n",
              "      <td>0.290698</td>\n",
              "      <td>0</td>\n",
              "      <td>0</td>\n",
              "      <td>0</td>\n",
              "      <td>0</td>\n",
              "      <td>0</td>\n",
              "      <td>...</td>\n",
              "      <td>1</td>\n",
              "      <td>0</td>\n",
              "      <td>2</td>\n",
              "      <td>0.000000</td>\n",
              "      <td>0.000000</td>\n",
              "      <td>0</td>\n",
              "      <td>0</td>\n",
              "      <td>0.416667</td>\n",
              "      <td>3</td>\n",
              "      <td>0</td>\n",
              "    </tr>\n",
              "    <tr>\n",
              "      <th>70688</th>\n",
              "      <td>1</td>\n",
              "      <td>0</td>\n",
              "      <td>1</td>\n",
              "      <td>1</td>\n",
              "      <td>0.197674</td>\n",
              "      <td>1</td>\n",
              "      <td>0</td>\n",
              "      <td>1</td>\n",
              "      <td>0</td>\n",
              "      <td>1</td>\n",
              "      <td>...</td>\n",
              "      <td>1</td>\n",
              "      <td>0</td>\n",
              "      <td>0</td>\n",
              "      <td>0.000000</td>\n",
              "      <td>0.000000</td>\n",
              "      <td>1</td>\n",
              "      <td>1</td>\n",
              "      <td>0.750000</td>\n",
              "      <td>2</td>\n",
              "      <td>5</td>\n",
              "    </tr>\n",
              "    <tr>\n",
              "      <th>70689</th>\n",
              "      <td>1</td>\n",
              "      <td>1</td>\n",
              "      <td>1</td>\n",
              "      <td>1</td>\n",
              "      <td>0.151163</td>\n",
              "      <td>0</td>\n",
              "      <td>0</td>\n",
              "      <td>1</td>\n",
              "      <td>0</td>\n",
              "      <td>1</td>\n",
              "      <td>...</td>\n",
              "      <td>1</td>\n",
              "      <td>0</td>\n",
              "      <td>4</td>\n",
              "      <td>0.500000</td>\n",
              "      <td>0.000000</td>\n",
              "      <td>1</td>\n",
              "      <td>0</td>\n",
              "      <td>1.000000</td>\n",
              "      <td>5</td>\n",
              "      <td>3</td>\n",
              "    </tr>\n",
              "    <tr>\n",
              "      <th>70690</th>\n",
              "      <td>1</td>\n",
              "      <td>1</td>\n",
              "      <td>1</td>\n",
              "      <td>1</td>\n",
              "      <td>0.069767</td>\n",
              "      <td>0</td>\n",
              "      <td>0</td>\n",
              "      <td>0</td>\n",
              "      <td>0</td>\n",
              "      <td>0</td>\n",
              "      <td>...</td>\n",
              "      <td>1</td>\n",
              "      <td>0</td>\n",
              "      <td>2</td>\n",
              "      <td>0.000000</td>\n",
              "      <td>0.000000</td>\n",
              "      <td>1</td>\n",
              "      <td>0</td>\n",
              "      <td>0.833333</td>\n",
              "      <td>1</td>\n",
              "      <td>3</td>\n",
              "    </tr>\n",
              "    <tr>\n",
              "      <th>70691</th>\n",
              "      <td>1</td>\n",
              "      <td>1</td>\n",
              "      <td>1</td>\n",
              "      <td>1</td>\n",
              "      <td>0.151163</td>\n",
              "      <td>0</td>\n",
              "      <td>0</td>\n",
              "      <td>1</td>\n",
              "      <td>1</td>\n",
              "      <td>1</td>\n",
              "      <td>...</td>\n",
              "      <td>1</td>\n",
              "      <td>0</td>\n",
              "      <td>0</td>\n",
              "      <td>0.000000</td>\n",
              "      <td>0.000000</td>\n",
              "      <td>0</td>\n",
              "      <td>0</td>\n",
              "      <td>0.666667</td>\n",
              "      <td>5</td>\n",
              "      <td>1</td>\n",
              "    </tr>\n",
              "  </tbody>\n",
              "</table>\n",
              "<p>70691 rows × 22 columns</p>\n",
              "</div>\n",
              "      <button class=\"colab-df-convert\" onclick=\"convertToInteractive('df-9fe36f85-bbac-4535-aff8-298c33ccc522')\"\n",
              "              title=\"Convert this dataframe to an interactive table.\"\n",
              "              style=\"display:none;\">\n",
              "        \n",
              "  <svg xmlns=\"http://www.w3.org/2000/svg\" height=\"24px\"viewBox=\"0 0 24 24\"\n",
              "       width=\"24px\">\n",
              "    <path d=\"M0 0h24v24H0V0z\" fill=\"none\"/>\n",
              "    <path d=\"M18.56 5.44l.94 2.06.94-2.06 2.06-.94-2.06-.94-.94-2.06-.94 2.06-2.06.94zm-11 1L8.5 8.5l.94-2.06 2.06-.94-2.06-.94L8.5 2.5l-.94 2.06-2.06.94zm10 10l.94 2.06.94-2.06 2.06-.94-2.06-.94-.94-2.06-.94 2.06-2.06.94z\"/><path d=\"M17.41 7.96l-1.37-1.37c-.4-.4-.92-.59-1.43-.59-.52 0-1.04.2-1.43.59L10.3 9.45l-7.72 7.72c-.78.78-.78 2.05 0 2.83L4 21.41c.39.39.9.59 1.41.59.51 0 1.02-.2 1.41-.59l7.78-7.78 2.81-2.81c.8-.78.8-2.07 0-2.86zM5.41 20L4 18.59l7.72-7.72 1.47 1.35L5.41 20z\"/>\n",
              "  </svg>\n",
              "      </button>\n",
              "      \n",
              "  <style>\n",
              "    .colab-df-container {\n",
              "      display:flex;\n",
              "      flex-wrap:wrap;\n",
              "      gap: 12px;\n",
              "    }\n",
              "\n",
              "    .colab-df-convert {\n",
              "      background-color: #E8F0FE;\n",
              "      border: none;\n",
              "      border-radius: 50%;\n",
              "      cursor: pointer;\n",
              "      display: none;\n",
              "      fill: #1967D2;\n",
              "      height: 32px;\n",
              "      padding: 0 0 0 0;\n",
              "      width: 32px;\n",
              "    }\n",
              "\n",
              "    .colab-df-convert:hover {\n",
              "      background-color: #E2EBFA;\n",
              "      box-shadow: 0px 1px 2px rgba(60, 64, 67, 0.3), 0px 1px 3px 1px rgba(60, 64, 67, 0.15);\n",
              "      fill: #174EA6;\n",
              "    }\n",
              "\n",
              "    [theme=dark] .colab-df-convert {\n",
              "      background-color: #3B4455;\n",
              "      fill: #D2E3FC;\n",
              "    }\n",
              "\n",
              "    [theme=dark] .colab-df-convert:hover {\n",
              "      background-color: #434B5C;\n",
              "      box-shadow: 0px 1px 3px 1px rgba(0, 0, 0, 0.15);\n",
              "      filter: drop-shadow(0px 1px 2px rgba(0, 0, 0, 0.3));\n",
              "      fill: #FFFFFF;\n",
              "    }\n",
              "  </style>\n",
              "\n",
              "      <script>\n",
              "        const buttonEl =\n",
              "          document.querySelector('#df-9fe36f85-bbac-4535-aff8-298c33ccc522 button.colab-df-convert');\n",
              "        buttonEl.style.display =\n",
              "          google.colab.kernel.accessAllowed ? 'block' : 'none';\n",
              "\n",
              "        async function convertToInteractive(key) {\n",
              "          const element = document.querySelector('#df-9fe36f85-bbac-4535-aff8-298c33ccc522');\n",
              "          const dataTable =\n",
              "            await google.colab.kernel.invokeFunction('convertToInteractive',\n",
              "                                                     [key], {});\n",
              "          if (!dataTable) return;\n",
              "\n",
              "          const docLinkHtml = 'Like what you see? Visit the ' +\n",
              "            '<a target=\"_blank\" href=https://colab.research.google.com/notebooks/data_table.ipynb>data table notebook</a>'\n",
              "            + ' to learn more about interactive tables.';\n",
              "          element.innerHTML = '';\n",
              "          dataTable['output_type'] = 'display_data';\n",
              "          await google.colab.output.renderOutput(dataTable, element);\n",
              "          const docLink = document.createElement('div');\n",
              "          docLink.innerHTML = docLinkHtml;\n",
              "          element.appendChild(docLink);\n",
              "        }\n",
              "      </script>\n",
              "    </div>\n",
              "  </div>\n",
              "  "
            ]
          },
          "metadata": {},
          "execution_count": 17
        }
      ]
    },
    {
      "cell_type": "markdown",
      "source": [
        "### One-hot-encoding"
      ],
      "metadata": {
        "id": "wos1eit14aId"
      }
    },
    {
      "cell_type": "code",
      "source": [
        "categorical_cols = ['General_Health', 'Sex', 'Education', 'Income']"
      ],
      "metadata": {
        "id": "ALdekrVZ4oON"
      },
      "execution_count": 18,
      "outputs": []
    },
    {
      "cell_type": "code",
      "source": [
        "for col in categorical_cols:\n",
        "  y = pd.get_dummies(diabetes_data[col], prefix=col)\n",
        "  diabetes_data = diabetes_data.join(y, how=\"outer\")\n",
        "  del diabetes_data[col]"
      ],
      "metadata": {
        "id": "6v3hKG1Z_uor"
      },
      "execution_count": 19,
      "outputs": []
    },
    {
      "cell_type": "code",
      "source": [
        "y"
      ],
      "metadata": {
        "colab": {
          "base_uri": "https://localhost:8080/",
          "height": 419
        },
        "id": "fmMDePI8_v5B",
        "outputId": "8ea68593-3091-4a47-f363-89625f0e35b6"
      },
      "execution_count": 20,
      "outputs": [
        {
          "output_type": "execute_result",
          "data": {
            "text/plain": [
              "       Income_0  Income_1  Income_2  Income_3  Income_4  Income_5  Income_6  \\\n",
              "0             0         0         0         0         0         0         0   \n",
              "1             0         0         0         0         0         0         0   \n",
              "2             0         0         0         0         0         0         0   \n",
              "3             0         0         0         0         0         0         0   \n",
              "4             0         0         0         0         0         0         0   \n",
              "...         ...       ...       ...       ...       ...       ...       ...   \n",
              "70687         1         0         0         0         0         0         0   \n",
              "70688         0         0         0         0         0         1         0   \n",
              "70689         0         0         0         1         0         0         0   \n",
              "70690         0         0         0         1         0         0         0   \n",
              "70691         0         1         0         0         0         0         0   \n",
              "\n",
              "       Income_7  Income_8  \n",
              "0             1         0  \n",
              "1             1         0  \n",
              "2             1         0  \n",
              "3             1         0  \n",
              "4             1         0  \n",
              "...         ...       ...  \n",
              "70687         0         0  \n",
              "70688         0         0  \n",
              "70689         0         0  \n",
              "70690         0         0  \n",
              "70691         0         0  \n",
              "\n",
              "[70691 rows x 9 columns]"
            ],
            "text/html": [
              "\n",
              "  <div id=\"df-f6ba5d04-fd62-48a9-9882-3add7abf6471\">\n",
              "    <div class=\"colab-df-container\">\n",
              "      <div>\n",
              "<style scoped>\n",
              "    .dataframe tbody tr th:only-of-type {\n",
              "        vertical-align: middle;\n",
              "    }\n",
              "\n",
              "    .dataframe tbody tr th {\n",
              "        vertical-align: top;\n",
              "    }\n",
              "\n",
              "    .dataframe thead th {\n",
              "        text-align: right;\n",
              "    }\n",
              "</style>\n",
              "<table border=\"1\" class=\"dataframe\">\n",
              "  <thead>\n",
              "    <tr style=\"text-align: right;\">\n",
              "      <th></th>\n",
              "      <th>Income_0</th>\n",
              "      <th>Income_1</th>\n",
              "      <th>Income_2</th>\n",
              "      <th>Income_3</th>\n",
              "      <th>Income_4</th>\n",
              "      <th>Income_5</th>\n",
              "      <th>Income_6</th>\n",
              "      <th>Income_7</th>\n",
              "      <th>Income_8</th>\n",
              "    </tr>\n",
              "  </thead>\n",
              "  <tbody>\n",
              "    <tr>\n",
              "      <th>0</th>\n",
              "      <td>0</td>\n",
              "      <td>0</td>\n",
              "      <td>0</td>\n",
              "      <td>0</td>\n",
              "      <td>0</td>\n",
              "      <td>0</td>\n",
              "      <td>0</td>\n",
              "      <td>1</td>\n",
              "      <td>0</td>\n",
              "    </tr>\n",
              "    <tr>\n",
              "      <th>1</th>\n",
              "      <td>0</td>\n",
              "      <td>0</td>\n",
              "      <td>0</td>\n",
              "      <td>0</td>\n",
              "      <td>0</td>\n",
              "      <td>0</td>\n",
              "      <td>0</td>\n",
              "      <td>1</td>\n",
              "      <td>0</td>\n",
              "    </tr>\n",
              "    <tr>\n",
              "      <th>2</th>\n",
              "      <td>0</td>\n",
              "      <td>0</td>\n",
              "      <td>0</td>\n",
              "      <td>0</td>\n",
              "      <td>0</td>\n",
              "      <td>0</td>\n",
              "      <td>0</td>\n",
              "      <td>1</td>\n",
              "      <td>0</td>\n",
              "    </tr>\n",
              "    <tr>\n",
              "      <th>3</th>\n",
              "      <td>0</td>\n",
              "      <td>0</td>\n",
              "      <td>0</td>\n",
              "      <td>0</td>\n",
              "      <td>0</td>\n",
              "      <td>0</td>\n",
              "      <td>0</td>\n",
              "      <td>1</td>\n",
              "      <td>0</td>\n",
              "    </tr>\n",
              "    <tr>\n",
              "      <th>4</th>\n",
              "      <td>0</td>\n",
              "      <td>0</td>\n",
              "      <td>0</td>\n",
              "      <td>0</td>\n",
              "      <td>0</td>\n",
              "      <td>0</td>\n",
              "      <td>0</td>\n",
              "      <td>1</td>\n",
              "      <td>0</td>\n",
              "    </tr>\n",
              "    <tr>\n",
              "      <th>...</th>\n",
              "      <td>...</td>\n",
              "      <td>...</td>\n",
              "      <td>...</td>\n",
              "      <td>...</td>\n",
              "      <td>...</td>\n",
              "      <td>...</td>\n",
              "      <td>...</td>\n",
              "      <td>...</td>\n",
              "      <td>...</td>\n",
              "    </tr>\n",
              "    <tr>\n",
              "      <th>70687</th>\n",
              "      <td>1</td>\n",
              "      <td>0</td>\n",
              "      <td>0</td>\n",
              "      <td>0</td>\n",
              "      <td>0</td>\n",
              "      <td>0</td>\n",
              "      <td>0</td>\n",
              "      <td>0</td>\n",
              "      <td>0</td>\n",
              "    </tr>\n",
              "    <tr>\n",
              "      <th>70688</th>\n",
              "      <td>0</td>\n",
              "      <td>0</td>\n",
              "      <td>0</td>\n",
              "      <td>0</td>\n",
              "      <td>0</td>\n",
              "      <td>1</td>\n",
              "      <td>0</td>\n",
              "      <td>0</td>\n",
              "      <td>0</td>\n",
              "    </tr>\n",
              "    <tr>\n",
              "      <th>70689</th>\n",
              "      <td>0</td>\n",
              "      <td>0</td>\n",
              "      <td>0</td>\n",
              "      <td>1</td>\n",
              "      <td>0</td>\n",
              "      <td>0</td>\n",
              "      <td>0</td>\n",
              "      <td>0</td>\n",
              "      <td>0</td>\n",
              "    </tr>\n",
              "    <tr>\n",
              "      <th>70690</th>\n",
              "      <td>0</td>\n",
              "      <td>0</td>\n",
              "      <td>0</td>\n",
              "      <td>1</td>\n",
              "      <td>0</td>\n",
              "      <td>0</td>\n",
              "      <td>0</td>\n",
              "      <td>0</td>\n",
              "      <td>0</td>\n",
              "    </tr>\n",
              "    <tr>\n",
              "      <th>70691</th>\n",
              "      <td>0</td>\n",
              "      <td>1</td>\n",
              "      <td>0</td>\n",
              "      <td>0</td>\n",
              "      <td>0</td>\n",
              "      <td>0</td>\n",
              "      <td>0</td>\n",
              "      <td>0</td>\n",
              "      <td>0</td>\n",
              "    </tr>\n",
              "  </tbody>\n",
              "</table>\n",
              "<p>70691 rows × 9 columns</p>\n",
              "</div>\n",
              "      <button class=\"colab-df-convert\" onclick=\"convertToInteractive('df-f6ba5d04-fd62-48a9-9882-3add7abf6471')\"\n",
              "              title=\"Convert this dataframe to an interactive table.\"\n",
              "              style=\"display:none;\">\n",
              "        \n",
              "  <svg xmlns=\"http://www.w3.org/2000/svg\" height=\"24px\"viewBox=\"0 0 24 24\"\n",
              "       width=\"24px\">\n",
              "    <path d=\"M0 0h24v24H0V0z\" fill=\"none\"/>\n",
              "    <path d=\"M18.56 5.44l.94 2.06.94-2.06 2.06-.94-2.06-.94-.94-2.06-.94 2.06-2.06.94zm-11 1L8.5 8.5l.94-2.06 2.06-.94-2.06-.94L8.5 2.5l-.94 2.06-2.06.94zm10 10l.94 2.06.94-2.06 2.06-.94-2.06-.94-.94-2.06-.94 2.06-2.06.94z\"/><path d=\"M17.41 7.96l-1.37-1.37c-.4-.4-.92-.59-1.43-.59-.52 0-1.04.2-1.43.59L10.3 9.45l-7.72 7.72c-.78.78-.78 2.05 0 2.83L4 21.41c.39.39.9.59 1.41.59.51 0 1.02-.2 1.41-.59l7.78-7.78 2.81-2.81c.8-.78.8-2.07 0-2.86zM5.41 20L4 18.59l7.72-7.72 1.47 1.35L5.41 20z\"/>\n",
              "  </svg>\n",
              "      </button>\n",
              "      \n",
              "  <style>\n",
              "    .colab-df-container {\n",
              "      display:flex;\n",
              "      flex-wrap:wrap;\n",
              "      gap: 12px;\n",
              "    }\n",
              "\n",
              "    .colab-df-convert {\n",
              "      background-color: #E8F0FE;\n",
              "      border: none;\n",
              "      border-radius: 50%;\n",
              "      cursor: pointer;\n",
              "      display: none;\n",
              "      fill: #1967D2;\n",
              "      height: 32px;\n",
              "      padding: 0 0 0 0;\n",
              "      width: 32px;\n",
              "    }\n",
              "\n",
              "    .colab-df-convert:hover {\n",
              "      background-color: #E2EBFA;\n",
              "      box-shadow: 0px 1px 2px rgba(60, 64, 67, 0.3), 0px 1px 3px 1px rgba(60, 64, 67, 0.15);\n",
              "      fill: #174EA6;\n",
              "    }\n",
              "\n",
              "    [theme=dark] .colab-df-convert {\n",
              "      background-color: #3B4455;\n",
              "      fill: #D2E3FC;\n",
              "    }\n",
              "\n",
              "    [theme=dark] .colab-df-convert:hover {\n",
              "      background-color: #434B5C;\n",
              "      box-shadow: 0px 1px 3px 1px rgba(0, 0, 0, 0.15);\n",
              "      filter: drop-shadow(0px 1px 2px rgba(0, 0, 0, 0.3));\n",
              "      fill: #FFFFFF;\n",
              "    }\n",
              "  </style>\n",
              "\n",
              "      <script>\n",
              "        const buttonEl =\n",
              "          document.querySelector('#df-f6ba5d04-fd62-48a9-9882-3add7abf6471 button.colab-df-convert');\n",
              "        buttonEl.style.display =\n",
              "          google.colab.kernel.accessAllowed ? 'block' : 'none';\n",
              "\n",
              "        async function convertToInteractive(key) {\n",
              "          const element = document.querySelector('#df-f6ba5d04-fd62-48a9-9882-3add7abf6471');\n",
              "          const dataTable =\n",
              "            await google.colab.kernel.invokeFunction('convertToInteractive',\n",
              "                                                     [key], {});\n",
              "          if (!dataTable) return;\n",
              "\n",
              "          const docLinkHtml = 'Like what you see? Visit the ' +\n",
              "            '<a target=\"_blank\" href=https://colab.research.google.com/notebooks/data_table.ipynb>data table notebook</a>'\n",
              "            + ' to learn more about interactive tables.';\n",
              "          element.innerHTML = '';\n",
              "          dataTable['output_type'] = 'display_data';\n",
              "          await google.colab.output.renderOutput(dataTable, element);\n",
              "          const docLink = document.createElement('div');\n",
              "          docLink.innerHTML = docLinkHtml;\n",
              "          element.appendChild(docLink);\n",
              "        }\n",
              "      </script>\n",
              "    </div>\n",
              "  </div>\n",
              "  "
            ]
          },
          "metadata": {},
          "execution_count": 20
        }
      ]
    },
    {
      "cell_type": "code",
      "source": [
        "diabetes_data"
      ],
      "metadata": {
        "id": "7Avhr-a5ENUL",
        "colab": {
          "base_uri": "https://localhost:8080/",
          "height": 483
        },
        "outputId": "8de81953-a3c7-49f1-c1cf-9a3a159e90ca"
      },
      "execution_count": 21,
      "outputs": [
        {
          "output_type": "execute_result",
          "data": {
            "text/plain": [
              "       Diabetes_binary  HighBP  High_Cholesterol  Cholesterol_Check       BMI  \\\n",
              "0                    0       1                 0                  1  0.162791   \n",
              "1                    0       1                 1                  1  0.162791   \n",
              "2                    0       0                 0                  1  0.162791   \n",
              "3                    0       1                 1                  1  0.186047   \n",
              "4                    0       0                 0                  1  0.197674   \n",
              "...                ...     ...               ...                ...       ...   \n",
              "70687                1       0                 1                  1  0.290698   \n",
              "70688                1       0                 1                  1  0.197674   \n",
              "70689                1       1                 1                  1  0.151163   \n",
              "70690                1       1                 1                  1  0.069767   \n",
              "70691                1       1                 1                  1  0.151163   \n",
              "\n",
              "       Smoker  Stroke  HeartDiseaseorAttack  Physical_Activity  Fruits  ...  \\\n",
              "0           0       0                     0                  1       0  ...   \n",
              "1           1       1                     0                  0       1  ...   \n",
              "2           0       0                     0                  1       1  ...   \n",
              "3           1       0                     0                  1       1  ...   \n",
              "4           1       0                     0                  1       1  ...   \n",
              "...       ...     ...                   ...                ...     ...  ...   \n",
              "70687       0       0                     0                  0       0  ...   \n",
              "70688       1       0                     1                  0       1  ...   \n",
              "70689       0       0                     1                  0       1  ...   \n",
              "70690       0       0                     0                  0       0  ...   \n",
              "70691       0       0                     1                  1       1  ...   \n",
              "\n",
              "       Education_5  Income_0  Income_1  Income_2  Income_3  Income_4  \\\n",
              "0                1         0         0         0         0         0   \n",
              "1                1         0         0         0         0         0   \n",
              "2                1         0         0         0         0         0   \n",
              "3                1         0         0         0         0         0   \n",
              "4                0         0         0         0         0         0   \n",
              "...            ...       ...       ...       ...       ...       ...   \n",
              "70687            0         1         0         0         0         0   \n",
              "70688            0         0         0         0         0         0   \n",
              "70689            1         0         0         0         1         0   \n",
              "70690            0         0         0         0         1         0   \n",
              "70691            1         0         1         0         0         0   \n",
              "\n",
              "       Income_5  Income_6  Income_7  Income_8  \n",
              "0             0         0         1         0  \n",
              "1             0         0         1         0  \n",
              "2             0         0         1         0  \n",
              "3             0         0         1         0  \n",
              "4             0         0         1         0  \n",
              "...         ...       ...       ...       ...  \n",
              "70687         0         0         0         0  \n",
              "70688         1         0         0         0  \n",
              "70689         0         0         0         0  \n",
              "70690         0         0         0         0  \n",
              "70691         0         0         0         0  \n",
              "\n",
              "[70691 rows x 40 columns]"
            ],
            "text/html": [
              "\n",
              "  <div id=\"df-47b84eb2-9bd7-43be-9c8e-7d603c56b82d\">\n",
              "    <div class=\"colab-df-container\">\n",
              "      <div>\n",
              "<style scoped>\n",
              "    .dataframe tbody tr th:only-of-type {\n",
              "        vertical-align: middle;\n",
              "    }\n",
              "\n",
              "    .dataframe tbody tr th {\n",
              "        vertical-align: top;\n",
              "    }\n",
              "\n",
              "    .dataframe thead th {\n",
              "        text-align: right;\n",
              "    }\n",
              "</style>\n",
              "<table border=\"1\" class=\"dataframe\">\n",
              "  <thead>\n",
              "    <tr style=\"text-align: right;\">\n",
              "      <th></th>\n",
              "      <th>Diabetes_binary</th>\n",
              "      <th>HighBP</th>\n",
              "      <th>High_Cholesterol</th>\n",
              "      <th>Cholesterol_Check</th>\n",
              "      <th>BMI</th>\n",
              "      <th>Smoker</th>\n",
              "      <th>Stroke</th>\n",
              "      <th>HeartDiseaseorAttack</th>\n",
              "      <th>Physical_Activity</th>\n",
              "      <th>Fruits</th>\n",
              "      <th>...</th>\n",
              "      <th>Education_5</th>\n",
              "      <th>Income_0</th>\n",
              "      <th>Income_1</th>\n",
              "      <th>Income_2</th>\n",
              "      <th>Income_3</th>\n",
              "      <th>Income_4</th>\n",
              "      <th>Income_5</th>\n",
              "      <th>Income_6</th>\n",
              "      <th>Income_7</th>\n",
              "      <th>Income_8</th>\n",
              "    </tr>\n",
              "  </thead>\n",
              "  <tbody>\n",
              "    <tr>\n",
              "      <th>0</th>\n",
              "      <td>0</td>\n",
              "      <td>1</td>\n",
              "      <td>0</td>\n",
              "      <td>1</td>\n",
              "      <td>0.162791</td>\n",
              "      <td>0</td>\n",
              "      <td>0</td>\n",
              "      <td>0</td>\n",
              "      <td>1</td>\n",
              "      <td>0</td>\n",
              "      <td>...</td>\n",
              "      <td>1</td>\n",
              "      <td>0</td>\n",
              "      <td>0</td>\n",
              "      <td>0</td>\n",
              "      <td>0</td>\n",
              "      <td>0</td>\n",
              "      <td>0</td>\n",
              "      <td>0</td>\n",
              "      <td>1</td>\n",
              "      <td>0</td>\n",
              "    </tr>\n",
              "    <tr>\n",
              "      <th>1</th>\n",
              "      <td>0</td>\n",
              "      <td>1</td>\n",
              "      <td>1</td>\n",
              "      <td>1</td>\n",
              "      <td>0.162791</td>\n",
              "      <td>1</td>\n",
              "      <td>1</td>\n",
              "      <td>0</td>\n",
              "      <td>0</td>\n",
              "      <td>1</td>\n",
              "      <td>...</td>\n",
              "      <td>1</td>\n",
              "      <td>0</td>\n",
              "      <td>0</td>\n",
              "      <td>0</td>\n",
              "      <td>0</td>\n",
              "      <td>0</td>\n",
              "      <td>0</td>\n",
              "      <td>0</td>\n",
              "      <td>1</td>\n",
              "      <td>0</td>\n",
              "    </tr>\n",
              "    <tr>\n",
              "      <th>2</th>\n",
              "      <td>0</td>\n",
              "      <td>0</td>\n",
              "      <td>0</td>\n",
              "      <td>1</td>\n",
              "      <td>0.162791</td>\n",
              "      <td>0</td>\n",
              "      <td>0</td>\n",
              "      <td>0</td>\n",
              "      <td>1</td>\n",
              "      <td>1</td>\n",
              "      <td>...</td>\n",
              "      <td>1</td>\n",
              "      <td>0</td>\n",
              "      <td>0</td>\n",
              "      <td>0</td>\n",
              "      <td>0</td>\n",
              "      <td>0</td>\n",
              "      <td>0</td>\n",
              "      <td>0</td>\n",
              "      <td>1</td>\n",
              "      <td>0</td>\n",
              "    </tr>\n",
              "    <tr>\n",
              "      <th>3</th>\n",
              "      <td>0</td>\n",
              "      <td>1</td>\n",
              "      <td>1</td>\n",
              "      <td>1</td>\n",
              "      <td>0.186047</td>\n",
              "      <td>1</td>\n",
              "      <td>0</td>\n",
              "      <td>0</td>\n",
              "      <td>1</td>\n",
              "      <td>1</td>\n",
              "      <td>...</td>\n",
              "      <td>1</td>\n",
              "      <td>0</td>\n",
              "      <td>0</td>\n",
              "      <td>0</td>\n",
              "      <td>0</td>\n",
              "      <td>0</td>\n",
              "      <td>0</td>\n",
              "      <td>0</td>\n",
              "      <td>1</td>\n",
              "      <td>0</td>\n",
              "    </tr>\n",
              "    <tr>\n",
              "      <th>4</th>\n",
              "      <td>0</td>\n",
              "      <td>0</td>\n",
              "      <td>0</td>\n",
              "      <td>1</td>\n",
              "      <td>0.197674</td>\n",
              "      <td>1</td>\n",
              "      <td>0</td>\n",
              "      <td>0</td>\n",
              "      <td>1</td>\n",
              "      <td>1</td>\n",
              "      <td>...</td>\n",
              "      <td>0</td>\n",
              "      <td>0</td>\n",
              "      <td>0</td>\n",
              "      <td>0</td>\n",
              "      <td>0</td>\n",
              "      <td>0</td>\n",
              "      <td>0</td>\n",
              "      <td>0</td>\n",
              "      <td>1</td>\n",
              "      <td>0</td>\n",
              "    </tr>\n",
              "    <tr>\n",
              "      <th>...</th>\n",
              "      <td>...</td>\n",
              "      <td>...</td>\n",
              "      <td>...</td>\n",
              "      <td>...</td>\n",
              "      <td>...</td>\n",
              "      <td>...</td>\n",
              "      <td>...</td>\n",
              "      <td>...</td>\n",
              "      <td>...</td>\n",
              "      <td>...</td>\n",
              "      <td>...</td>\n",
              "      <td>...</td>\n",
              "      <td>...</td>\n",
              "      <td>...</td>\n",
              "      <td>...</td>\n",
              "      <td>...</td>\n",
              "      <td>...</td>\n",
              "      <td>...</td>\n",
              "      <td>...</td>\n",
              "      <td>...</td>\n",
              "      <td>...</td>\n",
              "    </tr>\n",
              "    <tr>\n",
              "      <th>70687</th>\n",
              "      <td>1</td>\n",
              "      <td>0</td>\n",
              "      <td>1</td>\n",
              "      <td>1</td>\n",
              "      <td>0.290698</td>\n",
              "      <td>0</td>\n",
              "      <td>0</td>\n",
              "      <td>0</td>\n",
              "      <td>0</td>\n",
              "      <td>0</td>\n",
              "      <td>...</td>\n",
              "      <td>0</td>\n",
              "      <td>1</td>\n",
              "      <td>0</td>\n",
              "      <td>0</td>\n",
              "      <td>0</td>\n",
              "      <td>0</td>\n",
              "      <td>0</td>\n",
              "      <td>0</td>\n",
              "      <td>0</td>\n",
              "      <td>0</td>\n",
              "    </tr>\n",
              "    <tr>\n",
              "      <th>70688</th>\n",
              "      <td>1</td>\n",
              "      <td>0</td>\n",
              "      <td>1</td>\n",
              "      <td>1</td>\n",
              "      <td>0.197674</td>\n",
              "      <td>1</td>\n",
              "      <td>0</td>\n",
              "      <td>1</td>\n",
              "      <td>0</td>\n",
              "      <td>1</td>\n",
              "      <td>...</td>\n",
              "      <td>0</td>\n",
              "      <td>0</td>\n",
              "      <td>0</td>\n",
              "      <td>0</td>\n",
              "      <td>0</td>\n",
              "      <td>0</td>\n",
              "      <td>1</td>\n",
              "      <td>0</td>\n",
              "      <td>0</td>\n",
              "      <td>0</td>\n",
              "    </tr>\n",
              "    <tr>\n",
              "      <th>70689</th>\n",
              "      <td>1</td>\n",
              "      <td>1</td>\n",
              "      <td>1</td>\n",
              "      <td>1</td>\n",
              "      <td>0.151163</td>\n",
              "      <td>0</td>\n",
              "      <td>0</td>\n",
              "      <td>1</td>\n",
              "      <td>0</td>\n",
              "      <td>1</td>\n",
              "      <td>...</td>\n",
              "      <td>1</td>\n",
              "      <td>0</td>\n",
              "      <td>0</td>\n",
              "      <td>0</td>\n",
              "      <td>1</td>\n",
              "      <td>0</td>\n",
              "      <td>0</td>\n",
              "      <td>0</td>\n",
              "      <td>0</td>\n",
              "      <td>0</td>\n",
              "    </tr>\n",
              "    <tr>\n",
              "      <th>70690</th>\n",
              "      <td>1</td>\n",
              "      <td>1</td>\n",
              "      <td>1</td>\n",
              "      <td>1</td>\n",
              "      <td>0.069767</td>\n",
              "      <td>0</td>\n",
              "      <td>0</td>\n",
              "      <td>0</td>\n",
              "      <td>0</td>\n",
              "      <td>0</td>\n",
              "      <td>...</td>\n",
              "      <td>0</td>\n",
              "      <td>0</td>\n",
              "      <td>0</td>\n",
              "      <td>0</td>\n",
              "      <td>1</td>\n",
              "      <td>0</td>\n",
              "      <td>0</td>\n",
              "      <td>0</td>\n",
              "      <td>0</td>\n",
              "      <td>0</td>\n",
              "    </tr>\n",
              "    <tr>\n",
              "      <th>70691</th>\n",
              "      <td>1</td>\n",
              "      <td>1</td>\n",
              "      <td>1</td>\n",
              "      <td>1</td>\n",
              "      <td>0.151163</td>\n",
              "      <td>0</td>\n",
              "      <td>0</td>\n",
              "      <td>1</td>\n",
              "      <td>1</td>\n",
              "      <td>1</td>\n",
              "      <td>...</td>\n",
              "      <td>1</td>\n",
              "      <td>0</td>\n",
              "      <td>1</td>\n",
              "      <td>0</td>\n",
              "      <td>0</td>\n",
              "      <td>0</td>\n",
              "      <td>0</td>\n",
              "      <td>0</td>\n",
              "      <td>0</td>\n",
              "      <td>0</td>\n",
              "    </tr>\n",
              "  </tbody>\n",
              "</table>\n",
              "<p>70691 rows × 40 columns</p>\n",
              "</div>\n",
              "      <button class=\"colab-df-convert\" onclick=\"convertToInteractive('df-47b84eb2-9bd7-43be-9c8e-7d603c56b82d')\"\n",
              "              title=\"Convert this dataframe to an interactive table.\"\n",
              "              style=\"display:none;\">\n",
              "        \n",
              "  <svg xmlns=\"http://www.w3.org/2000/svg\" height=\"24px\"viewBox=\"0 0 24 24\"\n",
              "       width=\"24px\">\n",
              "    <path d=\"M0 0h24v24H0V0z\" fill=\"none\"/>\n",
              "    <path d=\"M18.56 5.44l.94 2.06.94-2.06 2.06-.94-2.06-.94-.94-2.06-.94 2.06-2.06.94zm-11 1L8.5 8.5l.94-2.06 2.06-.94-2.06-.94L8.5 2.5l-.94 2.06-2.06.94zm10 10l.94 2.06.94-2.06 2.06-.94-2.06-.94-.94-2.06-.94 2.06-2.06.94z\"/><path d=\"M17.41 7.96l-1.37-1.37c-.4-.4-.92-.59-1.43-.59-.52 0-1.04.2-1.43.59L10.3 9.45l-7.72 7.72c-.78.78-.78 2.05 0 2.83L4 21.41c.39.39.9.59 1.41.59.51 0 1.02-.2 1.41-.59l7.78-7.78 2.81-2.81c.8-.78.8-2.07 0-2.86zM5.41 20L4 18.59l7.72-7.72 1.47 1.35L5.41 20z\"/>\n",
              "  </svg>\n",
              "      </button>\n",
              "      \n",
              "  <style>\n",
              "    .colab-df-container {\n",
              "      display:flex;\n",
              "      flex-wrap:wrap;\n",
              "      gap: 12px;\n",
              "    }\n",
              "\n",
              "    .colab-df-convert {\n",
              "      background-color: #E8F0FE;\n",
              "      border: none;\n",
              "      border-radius: 50%;\n",
              "      cursor: pointer;\n",
              "      display: none;\n",
              "      fill: #1967D2;\n",
              "      height: 32px;\n",
              "      padding: 0 0 0 0;\n",
              "      width: 32px;\n",
              "    }\n",
              "\n",
              "    .colab-df-convert:hover {\n",
              "      background-color: #E2EBFA;\n",
              "      box-shadow: 0px 1px 2px rgba(60, 64, 67, 0.3), 0px 1px 3px 1px rgba(60, 64, 67, 0.15);\n",
              "      fill: #174EA6;\n",
              "    }\n",
              "\n",
              "    [theme=dark] .colab-df-convert {\n",
              "      background-color: #3B4455;\n",
              "      fill: #D2E3FC;\n",
              "    }\n",
              "\n",
              "    [theme=dark] .colab-df-convert:hover {\n",
              "      background-color: #434B5C;\n",
              "      box-shadow: 0px 1px 3px 1px rgba(0, 0, 0, 0.15);\n",
              "      filter: drop-shadow(0px 1px 2px rgba(0, 0, 0, 0.3));\n",
              "      fill: #FFFFFF;\n",
              "    }\n",
              "  </style>\n",
              "\n",
              "      <script>\n",
              "        const buttonEl =\n",
              "          document.querySelector('#df-47b84eb2-9bd7-43be-9c8e-7d603c56b82d button.colab-df-convert');\n",
              "        buttonEl.style.display =\n",
              "          google.colab.kernel.accessAllowed ? 'block' : 'none';\n",
              "\n",
              "        async function convertToInteractive(key) {\n",
              "          const element = document.querySelector('#df-47b84eb2-9bd7-43be-9c8e-7d603c56b82d');\n",
              "          const dataTable =\n",
              "            await google.colab.kernel.invokeFunction('convertToInteractive',\n",
              "                                                     [key], {});\n",
              "          if (!dataTable) return;\n",
              "\n",
              "          const docLinkHtml = 'Like what you see? Visit the ' +\n",
              "            '<a target=\"_blank\" href=https://colab.research.google.com/notebooks/data_table.ipynb>data table notebook</a>'\n",
              "            + ' to learn more about interactive tables.';\n",
              "          element.innerHTML = '';\n",
              "          dataTable['output_type'] = 'display_data';\n",
              "          await google.colab.output.renderOutput(dataTable, element);\n",
              "          const docLink = document.createElement('div');\n",
              "          docLink.innerHTML = docLinkHtml;\n",
              "          element.appendChild(docLink);\n",
              "        }\n",
              "      </script>\n",
              "    </div>\n",
              "  </div>\n",
              "  "
            ]
          },
          "metadata": {},
          "execution_count": 21
        }
      ]
    },
    {
      "cell_type": "markdown",
      "source": [
        "### Separating 'Diabetes_binary' column as label"
      ],
      "metadata": {
        "id": "-Znq91sZSl03"
      }
    },
    {
      "cell_type": "code",
      "source": [
        "diabetes_y = diabetes_data['Diabetes_binary']\n",
        "del diabetes_data['Diabetes_binary']"
      ],
      "metadata": {
        "id": "Xfg8v8lS93IR"
      },
      "execution_count": 22,
      "outputs": []
    },
    {
      "cell_type": "code",
      "source": [
        "diabetes_y"
      ],
      "metadata": {
        "colab": {
          "base_uri": "https://localhost:8080/"
        },
        "id": "TAMzzVwIB3Ac",
        "outputId": "f1ad85c3-9eb7-44f7-d2fb-1c0a6ef2bcd4"
      },
      "execution_count": 23,
      "outputs": [
        {
          "output_type": "execute_result",
          "data": {
            "text/plain": [
              "0        0\n",
              "1        0\n",
              "2        0\n",
              "3        0\n",
              "4        0\n",
              "        ..\n",
              "70687    1\n",
              "70688    1\n",
              "70689    1\n",
              "70690    1\n",
              "70691    1\n",
              "Name: Diabetes_binary, Length: 70691, dtype: int8"
            ]
          },
          "metadata": {},
          "execution_count": 23
        }
      ]
    },
    {
      "cell_type": "markdown",
      "source": [
        "### Create an XGBoost classifier"
      ],
      "metadata": {
        "id": "7-iJ5uY6C1ZL"
      }
    },
    {
      "cell_type": "code",
      "source": [
        "from xgboost import XGBClassifier\n",
        "from sklearn.model_selection import train_test_split, StratifiedKFold\n",
        "from sklearn.metrics import accuracy_score, roc_auc_score, classification_report, confusion_matrix\n",
        "from xgboost.callback import early_stop\n",
        "import seaborn as sns\n",
        "import numpy as np\n",
        "from sklearn.model_selection import GridSearchCV"
      ],
      "metadata": {
        "id": "1fYr4UT-B3-r"
      },
      "execution_count": 24,
      "outputs": []
    },
    {
      "cell_type": "markdown",
      "source": [
        "#### Split train, validation and test"
      ],
      "metadata": {
        "id": "8oFDYdfpuEKu"
      }
    },
    {
      "cell_type": "code",
      "source": [
        "X_train, X_rem, y_train, y_rem = train_test_split(diabetes_data, diabetes_y, train_size=0.8, random_state=1)\n",
        "X_valid, X_test, y_valid, y_test = train_test_split(X_rem,y_rem, test_size=0.5)"
      ],
      "metadata": {
        "id": "BYXKSOXwDg_q"
      },
      "execution_count": 25,
      "outputs": []
    },
    {
      "cell_type": "code",
      "source": [
        "print(X_train.shape)\n",
        "print(X_valid.shape)"
      ],
      "metadata": {
        "colab": {
          "base_uri": "https://localhost:8080/"
        },
        "id": "P7om76kKT8GI",
        "outputId": "d7292be6-a695-48e0-a94e-92e62fed754e"
      },
      "execution_count": 26,
      "outputs": [
        {
          "output_type": "stream",
          "name": "stdout",
          "text": [
            "(56552, 39)\n",
            "(7069, 39)\n"
          ]
        }
      ]
    },
    {
      "cell_type": "markdown",
      "source": [
        "#### Define custome scoring function "
      ],
      "metadata": {
        "id": "DAM1Hyr7uhju"
      }
    },
    {
      "cell_type": "code",
      "source": [
        "def my_roc_auc_score(model, X, y): \n",
        "  return roc_auc_score(y, model.predict_proba(X)[:,1])"
      ],
      "metadata": {
        "id": "Y0QQCBYZySmE"
      },
      "execution_count": 27,
      "outputs": []
    },
    {
      "cell_type": "markdown",
      "source": [
        "#### Set initial hyperparameters"
      ],
      "metadata": {
        "id": "iOffXlrgUW_P"
      }
    },
    {
      "cell_type": "code",
      "source": [
        "model = XGBClassifier(learning_rate=0.1, max_depth=4, n_estimators=200, subsample=0.5, colsample_bytree=1, random=123, eval_metric='auc', verbosity=1, tree_method='gpu_hist', early_stop=10)"
      ],
      "metadata": {
        "id": "zVZeTQQADqUP"
      },
      "execution_count": 28,
      "outputs": []
    },
    {
      "cell_type": "markdown",
      "source": [
        "#### Train classifier"
      ],
      "metadata": {
        "id": "pMfMX_HfUuDj"
      }
    },
    {
      "cell_type": "code",
      "source": [
        "model.fit(X_train, y_train, eval_set=[(X_train, y_train), (X_valid, y_valid)], early_stopping_rounds=10)"
      ],
      "metadata": {
        "colab": {
          "base_uri": "https://localhost:8080/"
        },
        "id": "Ht6WssONDwsc",
        "outputId": "ac4b24e7-fc44-4a07-c5f0-d4f8fccced60"
      },
      "execution_count": 29,
      "outputs": [
        {
          "output_type": "stream",
          "name": "stdout",
          "text": [
            "[0]\tvalidation_0-auc:0.780086\tvalidation_1-auc:0.777322\n",
            "Multiple eval metrics have been passed: 'validation_1-auc' will be used for early stopping.\n",
            "\n",
            "Will train until validation_1-auc hasn't improved in 10 rounds.\n",
            "[1]\tvalidation_0-auc:0.796903\tvalidation_1-auc:0.79585\n",
            "[2]\tvalidation_0-auc:0.805476\tvalidation_1-auc:0.804407\n",
            "[3]\tvalidation_0-auc:0.806938\tvalidation_1-auc:0.805577\n",
            "[4]\tvalidation_0-auc:0.809792\tvalidation_1-auc:0.80851\n",
            "[5]\tvalidation_0-auc:0.810774\tvalidation_1-auc:0.810546\n",
            "[6]\tvalidation_0-auc:0.811322\tvalidation_1-auc:0.810687\n",
            "[7]\tvalidation_0-auc:0.812454\tvalidation_1-auc:0.811793\n",
            "[8]\tvalidation_0-auc:0.813125\tvalidation_1-auc:0.812947\n",
            "[9]\tvalidation_0-auc:0.815397\tvalidation_1-auc:0.815061\n",
            "[10]\tvalidation_0-auc:0.817071\tvalidation_1-auc:0.817055\n",
            "[11]\tvalidation_0-auc:0.818246\tvalidation_1-auc:0.818236\n",
            "[12]\tvalidation_0-auc:0.819076\tvalidation_1-auc:0.819281\n",
            "[13]\tvalidation_0-auc:0.820055\tvalidation_1-auc:0.820065\n",
            "[14]\tvalidation_0-auc:0.82107\tvalidation_1-auc:0.82091\n",
            "[15]\tvalidation_0-auc:0.821836\tvalidation_1-auc:0.821308\n",
            "[16]\tvalidation_0-auc:0.822652\tvalidation_1-auc:0.822063\n",
            "[17]\tvalidation_0-auc:0.823001\tvalidation_1-auc:0.822528\n",
            "[18]\tvalidation_0-auc:0.823559\tvalidation_1-auc:0.822449\n",
            "[19]\tvalidation_0-auc:0.824188\tvalidation_1-auc:0.82313\n",
            "[20]\tvalidation_0-auc:0.824665\tvalidation_1-auc:0.823648\n",
            "[21]\tvalidation_0-auc:0.825152\tvalidation_1-auc:0.823988\n",
            "[22]\tvalidation_0-auc:0.82565\tvalidation_1-auc:0.824447\n",
            "[23]\tvalidation_0-auc:0.82615\tvalidation_1-auc:0.824763\n",
            "[24]\tvalidation_0-auc:0.826568\tvalidation_1-auc:0.825006\n",
            "[25]\tvalidation_0-auc:0.826935\tvalidation_1-auc:0.825357\n",
            "[26]\tvalidation_0-auc:0.827246\tvalidation_1-auc:0.825704\n",
            "[27]\tvalidation_0-auc:0.827745\tvalidation_1-auc:0.826061\n",
            "[28]\tvalidation_0-auc:0.82804\tvalidation_1-auc:0.826315\n",
            "[29]\tvalidation_0-auc:0.828295\tvalidation_1-auc:0.826527\n",
            "[30]\tvalidation_0-auc:0.828563\tvalidation_1-auc:0.826707\n",
            "[31]\tvalidation_0-auc:0.828921\tvalidation_1-auc:0.826913\n",
            "[32]\tvalidation_0-auc:0.829194\tvalidation_1-auc:0.827184\n",
            "[33]\tvalidation_0-auc:0.829385\tvalidation_1-auc:0.827223\n",
            "[34]\tvalidation_0-auc:0.829584\tvalidation_1-auc:0.82738\n",
            "[35]\tvalidation_0-auc:0.829793\tvalidation_1-auc:0.82754\n",
            "[36]\tvalidation_0-auc:0.829976\tvalidation_1-auc:0.82767\n",
            "[37]\tvalidation_0-auc:0.830178\tvalidation_1-auc:0.827865\n",
            "[38]\tvalidation_0-auc:0.83041\tvalidation_1-auc:0.827974\n",
            "[39]\tvalidation_0-auc:0.83061\tvalidation_1-auc:0.828146\n",
            "[40]\tvalidation_0-auc:0.830804\tvalidation_1-auc:0.828232\n",
            "[41]\tvalidation_0-auc:0.830936\tvalidation_1-auc:0.828305\n",
            "[42]\tvalidation_0-auc:0.831207\tvalidation_1-auc:0.828509\n",
            "[43]\tvalidation_0-auc:0.831372\tvalidation_1-auc:0.828612\n",
            "[44]\tvalidation_0-auc:0.83153\tvalidation_1-auc:0.828813\n",
            "[45]\tvalidation_0-auc:0.831628\tvalidation_1-auc:0.82881\n",
            "[46]\tvalidation_0-auc:0.83179\tvalidation_1-auc:0.828878\n",
            "[47]\tvalidation_0-auc:0.83193\tvalidation_1-auc:0.828935\n",
            "[48]\tvalidation_0-auc:0.832029\tvalidation_1-auc:0.828929\n",
            "[49]\tvalidation_0-auc:0.832182\tvalidation_1-auc:0.829007\n",
            "[50]\tvalidation_0-auc:0.832299\tvalidation_1-auc:0.829076\n",
            "[51]\tvalidation_0-auc:0.832418\tvalidation_1-auc:0.829139\n",
            "[52]\tvalidation_0-auc:0.832589\tvalidation_1-auc:0.829194\n",
            "[53]\tvalidation_0-auc:0.832714\tvalidation_1-auc:0.829228\n",
            "[54]\tvalidation_0-auc:0.832864\tvalidation_1-auc:0.829278\n",
            "[55]\tvalidation_0-auc:0.832967\tvalidation_1-auc:0.829331\n",
            "[56]\tvalidation_0-auc:0.833057\tvalidation_1-auc:0.829378\n",
            "[57]\tvalidation_0-auc:0.833155\tvalidation_1-auc:0.829465\n",
            "[58]\tvalidation_0-auc:0.83322\tvalidation_1-auc:0.829518\n",
            "[59]\tvalidation_0-auc:0.833305\tvalidation_1-auc:0.829548\n",
            "[60]\tvalidation_0-auc:0.833408\tvalidation_1-auc:0.829543\n",
            "[61]\tvalidation_0-auc:0.833511\tvalidation_1-auc:0.829674\n",
            "[62]\tvalidation_0-auc:0.833654\tvalidation_1-auc:0.829703\n",
            "[63]\tvalidation_0-auc:0.833782\tvalidation_1-auc:0.829713\n",
            "[64]\tvalidation_0-auc:0.833872\tvalidation_1-auc:0.829613\n",
            "[65]\tvalidation_0-auc:0.833934\tvalidation_1-auc:0.829641\n",
            "[66]\tvalidation_0-auc:0.834047\tvalidation_1-auc:0.829681\n",
            "[67]\tvalidation_0-auc:0.834151\tvalidation_1-auc:0.829661\n",
            "[68]\tvalidation_0-auc:0.834275\tvalidation_1-auc:0.829785\n",
            "[69]\tvalidation_0-auc:0.834371\tvalidation_1-auc:0.829865\n",
            "[70]\tvalidation_0-auc:0.834466\tvalidation_1-auc:0.82987\n",
            "[71]\tvalidation_0-auc:0.834547\tvalidation_1-auc:0.829977\n",
            "[72]\tvalidation_0-auc:0.834662\tvalidation_1-auc:0.830039\n",
            "[73]\tvalidation_0-auc:0.834704\tvalidation_1-auc:0.830028\n",
            "[74]\tvalidation_0-auc:0.8348\tvalidation_1-auc:0.830056\n",
            "[75]\tvalidation_0-auc:0.834896\tvalidation_1-auc:0.82997\n",
            "[76]\tvalidation_0-auc:0.834991\tvalidation_1-auc:0.829933\n",
            "[77]\tvalidation_0-auc:0.835042\tvalidation_1-auc:0.829895\n",
            "[78]\tvalidation_0-auc:0.835162\tvalidation_1-auc:0.829953\n",
            "[79]\tvalidation_0-auc:0.835258\tvalidation_1-auc:0.830063\n",
            "[80]\tvalidation_0-auc:0.835308\tvalidation_1-auc:0.830035\n",
            "[81]\tvalidation_0-auc:0.835366\tvalidation_1-auc:0.830097\n",
            "[82]\tvalidation_0-auc:0.835468\tvalidation_1-auc:0.830165\n",
            "[83]\tvalidation_0-auc:0.835569\tvalidation_1-auc:0.830167\n",
            "[84]\tvalidation_0-auc:0.835604\tvalidation_1-auc:0.830216\n",
            "[85]\tvalidation_0-auc:0.835672\tvalidation_1-auc:0.830218\n",
            "[86]\tvalidation_0-auc:0.835761\tvalidation_1-auc:0.830115\n",
            "[87]\tvalidation_0-auc:0.835831\tvalidation_1-auc:0.830192\n",
            "[88]\tvalidation_0-auc:0.835899\tvalidation_1-auc:0.830297\n",
            "[89]\tvalidation_0-auc:0.836008\tvalidation_1-auc:0.83022\n",
            "[90]\tvalidation_0-auc:0.836076\tvalidation_1-auc:0.830227\n",
            "[91]\tvalidation_0-auc:0.836114\tvalidation_1-auc:0.830248\n",
            "[92]\tvalidation_0-auc:0.83618\tvalidation_1-auc:0.830159\n",
            "[93]\tvalidation_0-auc:0.83627\tvalidation_1-auc:0.830115\n",
            "[94]\tvalidation_0-auc:0.836388\tvalidation_1-auc:0.830233\n",
            "[95]\tvalidation_0-auc:0.836527\tvalidation_1-auc:0.830192\n",
            "[96]\tvalidation_0-auc:0.836613\tvalidation_1-auc:0.83022\n",
            "[97]\tvalidation_0-auc:0.836656\tvalidation_1-auc:0.830253\n",
            "[98]\tvalidation_0-auc:0.83672\tvalidation_1-auc:0.830299\n",
            "[99]\tvalidation_0-auc:0.83677\tvalidation_1-auc:0.830313\n",
            "[100]\tvalidation_0-auc:0.836852\tvalidation_1-auc:0.830388\n",
            "[101]\tvalidation_0-auc:0.836919\tvalidation_1-auc:0.830336\n",
            "[102]\tvalidation_0-auc:0.836978\tvalidation_1-auc:0.830328\n",
            "[103]\tvalidation_0-auc:0.837065\tvalidation_1-auc:0.830231\n",
            "[104]\tvalidation_0-auc:0.837127\tvalidation_1-auc:0.830226\n",
            "[105]\tvalidation_0-auc:0.837209\tvalidation_1-auc:0.830253\n",
            "[106]\tvalidation_0-auc:0.837275\tvalidation_1-auc:0.830165\n",
            "[107]\tvalidation_0-auc:0.837348\tvalidation_1-auc:0.830071\n",
            "[108]\tvalidation_0-auc:0.837401\tvalidation_1-auc:0.830137\n",
            "[109]\tvalidation_0-auc:0.837481\tvalidation_1-auc:0.830095\n",
            "[110]\tvalidation_0-auc:0.837596\tvalidation_1-auc:0.830207\n",
            "Stopping. Best iteration:\n",
            "[100]\tvalidation_0-auc:0.836852\tvalidation_1-auc:0.830388\n",
            "\n"
          ]
        },
        {
          "output_type": "execute_result",
          "data": {
            "text/plain": [
              "XGBClassifier(early_stop=10, eval_metric='auc', max_depth=4, n_estimators=200,\n",
              "              random=123, subsample=0.5, tree_method='gpu_hist')"
            ]
          },
          "metadata": {},
          "execution_count": 29
        }
      ]
    },
    {
      "cell_type": "markdown",
      "source": [
        "#### Train auc: 0.836114"
      ],
      "metadata": {
        "id": "gL3X0_zKVDV9"
      }
    },
    {
      "cell_type": "code",
      "source": [
        "y_pred = model.predict(X_test)"
      ],
      "metadata": {
        "id": "8eK_dfo8DzOy"
      },
      "execution_count": 30,
      "outputs": []
    },
    {
      "cell_type": "code",
      "source": [
        "y_pred"
      ],
      "metadata": {
        "id": "rhz1r-xeFWtJ",
        "colab": {
          "base_uri": "https://localhost:8080/"
        },
        "outputId": "4cc5bb27-7074-4dac-be31-266177f65670"
      },
      "execution_count": 31,
      "outputs": [
        {
          "output_type": "execute_result",
          "data": {
            "text/plain": [
              "array([1, 0, 0, ..., 0, 1, 1], dtype=int8)"
            ]
          },
          "metadata": {},
          "execution_count": 31
        }
      ]
    },
    {
      "cell_type": "markdown",
      "source": [
        "#### Test auc:"
      ],
      "metadata": {
        "id": "uac-OwStVKMq"
      }
    },
    {
      "cell_type": "code",
      "source": [
        "accuracy = accuracy_score(y_test, y_pred)\n",
        "accuracy"
      ],
      "metadata": {
        "id": "7RY2ofzAFYAX",
        "colab": {
          "base_uri": "https://localhost:8080/"
        },
        "outputId": "41be56f2-1a0c-4c7f-9aa7-cefac3bedf2b"
      },
      "execution_count": 32,
      "outputs": [
        {
          "output_type": "execute_result",
          "data": {
            "text/plain": [
              "0.7630834512022631"
            ]
          },
          "metadata": {},
          "execution_count": 32
        }
      ]
    },
    {
      "cell_type": "markdown",
      "source": [
        "#### Precision, Recall and Confusion matrix"
      ],
      "metadata": {
        "id": "qmTN8y7-VYOQ"
      }
    },
    {
      "cell_type": "code",
      "source": [
        "print(confusion_matrix(y_test, y_pred))\n",
        "print(classification_report(y_test, y_pred))"
      ],
      "metadata": {
        "id": "ReOUq5mwFaXa",
        "colab": {
          "base_uri": "https://localhost:8080/"
        },
        "outputId": "e51f205e-0a9a-4b57-db56-3c7e25647c97"
      },
      "execution_count": 33,
      "outputs": [
        {
          "output_type": "stream",
          "name": "stdout",
          "text": [
            "[[2550  987]\n",
            " [ 688 2845]]\n",
            "              precision    recall  f1-score   support\n",
            "\n",
            "           0       0.79      0.72      0.75      3537\n",
            "           1       0.74      0.81      0.77      3533\n",
            "\n",
            "    accuracy                           0.76      7070\n",
            "   macro avg       0.76      0.76      0.76      7070\n",
            "weighted avg       0.76      0.76      0.76      7070\n",
            "\n"
          ]
        }
      ]
    },
    {
      "cell_type": "code",
      "source": [
        "cf_matrix = confusion_matrix(y_test, y_pred)\n",
        "sns.heatmap(cf_matrix, annot=True)"
      ],
      "metadata": {
        "id": "3PH0jH2OGu80",
        "colab": {
          "base_uri": "https://localhost:8080/",
          "height": 282
        },
        "outputId": "39d32c91-29ea-4b9e-d02d-c3a61faa00aa"
      },
      "execution_count": 34,
      "outputs": [
        {
          "output_type": "execute_result",
          "data": {
            "text/plain": [
              "<matplotlib.axes._subplots.AxesSubplot at 0x7f16d02ea290>"
            ]
          },
          "metadata": {},
          "execution_count": 34
        },
        {
          "output_type": "display_data",
          "data": {
            "text/plain": [
              "<Figure size 432x288 with 2 Axes>"
            ],
            "image/png": "[encoded data removed]"
          },
          "metadata": {
            "needs_background": "light"
          }
        }
      ]
    },
    {
      "cell_type": "code",
      "source": [
        "sns.heatmap(cf_matrix/np.sum(cf_matrix), annot=True, fmt='.2%', cmap='Blues')"
      ],
      "metadata": {
        "id": "M0LwkN87HUwS",
        "colab": {
          "base_uri": "https://localhost:8080/",
          "height": 285
        },
        "outputId": "245869dd-f00a-4b0e-827f-9bc0d8815b4c"
      },
      "execution_count": 35,
      "outputs": [
        {
          "output_type": "execute_result",
          "data": {
            "text/plain": [
              "<matplotlib.axes._subplots.AxesSubplot at 0x7f16d01f8dd0>"
            ]
          },
          "metadata": {},
          "execution_count": 35
        },
        {
          "output_type": "display_data",
          "data": {
            "text/plain": [
              "<Figure size 432x288 with 2 Axes>"
            ],
            "image/png": "[encoded data removed]"
          },
          "metadata": {
            "needs_background": "light"
          }
        }
      ]
    },
    {
      "cell_type": "markdown",
      "source": [
        "### Tuning hyperparameters"
      ],
      "metadata": {
        "id": "zUvv0zgBVz5n"
      }
    },
    {
      "cell_type": "code",
      "source": [
        "XGBClassifier().get_params()"
      ],
      "metadata": {
        "id": "k4VtfJyyH8AQ",
        "colab": {
          "base_uri": "https://localhost:8080/"
        },
        "outputId": "fd0e4db3-b6e5-46a1-ecf2-40b6d9d4aebe"
      },
      "execution_count": 36,
      "outputs": [
        {
          "output_type": "execute_result",
          "data": {
            "text/plain": [
              "{'base_score': 0.5,\n",
              " 'booster': 'gbtree',\n",
              " 'colsample_bylevel': 1,\n",
              " 'colsample_bynode': 1,\n",
              " 'colsample_bytree': 1,\n",
              " 'gamma': 0,\n",
              " 'learning_rate': 0.1,\n",
              " 'max_delta_step': 0,\n",
              " 'max_depth': 3,\n",
              " 'min_child_weight': 1,\n",
              " 'missing': None,\n",
              " 'n_estimators': 100,\n",
              " 'n_jobs': 1,\n",
              " 'nthread': None,\n",
              " 'objective': 'binary:logistic',\n",
              " 'random_state': 0,\n",
              " 'reg_alpha': 0,\n",
              " 'reg_lambda': 1,\n",
              " 'scale_pos_weight': 1,\n",
              " 'seed': None,\n",
              " 'silent': None,\n",
              " 'subsample': 1,\n",
              " 'verbosity': 1}"
            ]
          },
          "metadata": {},
          "execution_count": 36
        }
      ]
    },
    {
      "cell_type": "markdown",
      "source": [
        "#### Set desired hyperparameters"
      ],
      "metadata": {
        "id": "07rJAMxMW0Dn"
      }
    },
    {
      "cell_type": "code",
      "source": [
        "grid_params = {\n",
        "    'learning_rate_list': [0.02, 0.05, 0.1, 0.3],\n",
        "    'max_depth_list': [2, 3, 4],\n",
        "    'n_estimators_list': [100 ,200 ,300],\n",
        "    'colsample_bytree': [0.8 ,1]\n",
        "}"
      ],
      "metadata": {
        "id": "jrOdpkqIKgbK"
      },
      "execution_count": 37,
      "outputs": []
    },
    {
      "cell_type": "code",
      "source": [
        "num_folds = 3\n",
        "seed = 42"
      ],
      "metadata": {
        "id": "VaoHEJb7XZmP"
      },
      "execution_count": 38,
      "outputs": []
    },
    {
      "cell_type": "code",
      "source": [
        "# Defining StratifiedKFold\n",
        "kfold = StratifiedKFold(n_splits=num_folds,\n",
        "                        random_state=seed, shuffle=True)"
      ],
      "metadata": {
        "id": "y8OJPU8ZQnLh"
      },
      "execution_count": 39,
      "outputs": []
    },
    {
      "cell_type": "code",
      "source": [
        "model = XGBClassifier(subsample=0.5, eval_metric='auc', tree_method='gpu_hist')"
      ],
      "metadata": {
        "id": "MzZEH-NXSC_a"
      },
      "execution_count": 40,
      "outputs": []
    },
    {
      "cell_type": "code",
      "source": [
        "grid = GridSearchCV(model, grid_params, refit = True, cv=kfold, verbose=3, n_jobs=-1, scoring=my_roc_auc_score, return_train_score=True) "
      ],
      "metadata": {
        "id": "FQTqFcuiO3JH"
      },
      "execution_count": 41,
      "outputs": []
    },
    {
      "cell_type": "code",
      "source": [
        "# fitting the model for grid search \n",
        "grid.fit(X_train, y_train, eval_set=[(X_train, y_train), (X_valid, y_valid)], early_stopping_rounds=10) "
      ],
      "metadata": {
        "id": "40LSnfQ-O6vf",
        "colab": {
          "base_uri": "https://localhost:8080/"
        },
        "outputId": "8551c06f-0ca1-4036-9d15-9c1221260749"
      },
      "execution_count": 42,
      "outputs": [
        {
          "output_type": "stream",
          "name": "stdout",
          "text": [
            "Fitting 3 folds for each of 72 candidates, totalling 216 fits\n",
            "[0]\tvalidation_0-auc:0.756476\tvalidation_1-auc:0.751461\n",
            "Multiple eval metrics have been passed: 'validation_1-auc' will be used for early stopping.\n",
            "\n",
            "Will train until validation_1-auc hasn't improved in 10 rounds.\n",
            "[1]\tvalidation_0-auc:0.789113\tvalidation_1-auc:0.787501\n",
            "[2]\tvalidation_0-auc:0.793762\tvalidation_1-auc:0.793709\n",
            "[3]\tvalidation_0-auc:0.794846\tvalidation_1-auc:0.794593\n",
            "[4]\tvalidation_0-auc:0.797024\tvalidation_1-auc:0.796604\n",
            "[5]\tvalidation_0-auc:0.798452\tvalidation_1-auc:0.797329\n",
            "[6]\tvalidation_0-auc:0.799342\tvalidation_1-auc:0.798676\n",
            "[7]\tvalidation_0-auc:0.803558\tvalidation_1-auc:0.802822\n",
            "[8]\tvalidation_0-auc:0.807354\tvalidation_1-auc:0.806932\n",
            "[9]\tvalidation_0-auc:0.809492\tvalidation_1-auc:0.80976\n",
            "[10]\tvalidation_0-auc:0.811827\tvalidation_1-auc:0.81205\n",
            "[11]\tvalidation_0-auc:0.811938\tvalidation_1-auc:0.812168\n",
            "[12]\tvalidation_0-auc:0.813585\tvalidation_1-auc:0.813838\n",
            "[13]\tvalidation_0-auc:0.815089\tvalidation_1-auc:0.814853\n",
            "[14]\tvalidation_0-auc:0.816002\tvalidation_1-auc:0.815843\n",
            "[15]\tvalidation_0-auc:0.817259\tvalidation_1-auc:0.816934\n",
            "[16]\tvalidation_0-auc:0.818098\tvalidation_1-auc:0.817727\n",
            "[17]\tvalidation_0-auc:0.818738\tvalidation_1-auc:0.818171\n",
            "[18]\tvalidation_0-auc:0.819536\tvalidation_1-auc:0.81831\n",
            "[19]\tvalidation_0-auc:0.819954\tvalidation_1-auc:0.81891\n",
            "[20]\tvalidation_0-auc:0.820487\tvalidation_1-auc:0.819528\n",
            "[21]\tvalidation_0-auc:0.82134\tvalidation_1-auc:0.820214\n",
            "[22]\tvalidation_0-auc:0.821988\tvalidation_1-auc:0.820918\n",
            "[23]\tvalidation_0-auc:0.822751\tvalidation_1-auc:0.82164\n",
            "[24]\tvalidation_0-auc:0.823046\tvalidation_1-auc:0.822017\n",
            "[25]\tvalidation_0-auc:0.823625\tvalidation_1-auc:0.822645\n",
            "[26]\tvalidation_0-auc:0.823865\tvalidation_1-auc:0.823037\n",
            "[27]\tvalidation_0-auc:0.824445\tvalidation_1-auc:0.823383\n",
            "[28]\tvalidation_0-auc:0.824686\tvalidation_1-auc:0.823578\n",
            "[29]\tvalidation_0-auc:0.824953\tvalidation_1-auc:0.823725\n",
            "[30]\tvalidation_0-auc:0.825321\tvalidation_1-auc:0.824053\n",
            "[31]\tvalidation_0-auc:0.825547\tvalidation_1-auc:0.824289\n",
            "[32]\tvalidation_0-auc:0.825827\tvalidation_1-auc:0.824552\n",
            "[33]\tvalidation_0-auc:0.826088\tvalidation_1-auc:0.824835\n",
            "[34]\tvalidation_0-auc:0.826359\tvalidation_1-auc:0.825154\n",
            "[35]\tvalidation_0-auc:0.826566\tvalidation_1-auc:0.825299\n",
            "[36]\tvalidation_0-auc:0.826865\tvalidation_1-auc:0.825506\n",
            "[37]\tvalidation_0-auc:0.826948\tvalidation_1-auc:0.825576\n",
            "[38]\tvalidation_0-auc:0.827066\tvalidation_1-auc:0.82572\n",
            "[39]\tvalidation_0-auc:0.82737\tvalidation_1-auc:0.826048\n",
            "[40]\tvalidation_0-auc:0.827657\tvalidation_1-auc:0.826235\n",
            "[41]\tvalidation_0-auc:0.827875\tvalidation_1-auc:0.826403\n",
            "[42]\tvalidation_0-auc:0.828075\tvalidation_1-auc:0.826636\n",
            "[43]\tvalidation_0-auc:0.828217\tvalidation_1-auc:0.826828\n",
            "[44]\tvalidation_0-auc:0.828357\tvalidation_1-auc:0.826921\n",
            "[45]\tvalidation_0-auc:0.828503\tvalidation_1-auc:0.82694\n",
            "[46]\tvalidation_0-auc:0.828639\tvalidation_1-auc:0.827098\n",
            "[47]\tvalidation_0-auc:0.828736\tvalidation_1-auc:0.827234\n",
            "[48]\tvalidation_0-auc:0.828841\tvalidation_1-auc:0.827271\n",
            "[49]\tvalidation_0-auc:0.828967\tvalidation_1-auc:0.827431\n",
            "[50]\tvalidation_0-auc:0.829102\tvalidation_1-auc:0.827474\n",
            "[51]\tvalidation_0-auc:0.829245\tvalidation_1-auc:0.82754\n",
            "[52]\tvalidation_0-auc:0.829463\tvalidation_1-auc:0.827649\n",
            "[53]\tvalidation_0-auc:0.829602\tvalidation_1-auc:0.827725\n",
            "[54]\tvalidation_0-auc:0.829752\tvalidation_1-auc:0.827773\n",
            "[55]\tvalidation_0-auc:0.829865\tvalidation_1-auc:0.827785\n",
            "[56]\tvalidation_0-auc:0.829937\tvalidation_1-auc:0.827845\n",
            "[57]\tvalidation_0-auc:0.829985\tvalidation_1-auc:0.827873\n",
            "[58]\tvalidation_0-auc:0.830063\tvalidation_1-auc:0.827975\n",
            "[59]\tvalidation_0-auc:0.830137\tvalidation_1-auc:0.827968\n",
            "[60]\tvalidation_0-auc:0.830214\tvalidation_1-auc:0.828089\n",
            "[61]\tvalidation_0-auc:0.830331\tvalidation_1-auc:0.8282\n",
            "[62]\tvalidation_0-auc:0.830412\tvalidation_1-auc:0.828193\n",
            "[63]\tvalidation_0-auc:0.830527\tvalidation_1-auc:0.828291\n",
            "[64]\tvalidation_0-auc:0.830555\tvalidation_1-auc:0.828244\n",
            "[65]\tvalidation_0-auc:0.830618\tvalidation_1-auc:0.828296\n",
            "[66]\tvalidation_0-auc:0.830696\tvalidation_1-auc:0.828344\n",
            "[67]\tvalidation_0-auc:0.830809\tvalidation_1-auc:0.828342\n",
            "[68]\tvalidation_0-auc:0.83091\tvalidation_1-auc:0.828491\n",
            "[69]\tvalidation_0-auc:0.830937\tvalidation_1-auc:0.828572\n",
            "[70]\tvalidation_0-auc:0.831006\tvalidation_1-auc:0.828632\n",
            "[71]\tvalidation_0-auc:0.83105\tvalidation_1-auc:0.828663\n",
            "[72]\tvalidation_0-auc:0.831195\tvalidation_1-auc:0.828752\n",
            "[73]\tvalidation_0-auc:0.831255\tvalidation_1-auc:0.828807\n",
            "[74]\tvalidation_0-auc:0.831327\tvalidation_1-auc:0.828797\n",
            "[75]\tvalidation_0-auc:0.831407\tvalidation_1-auc:0.828764\n",
            "[76]\tvalidation_0-auc:0.831461\tvalidation_1-auc:0.828749\n",
            "[77]\tvalidation_0-auc:0.831494\tvalidation_1-auc:0.828778\n",
            "[78]\tvalidation_0-auc:0.831579\tvalidation_1-auc:0.828875\n",
            "[79]\tvalidation_0-auc:0.831654\tvalidation_1-auc:0.828976\n",
            "[80]\tvalidation_0-auc:0.831683\tvalidation_1-auc:0.828977\n",
            "[81]\tvalidation_0-auc:0.831737\tvalidation_1-auc:0.829024\n",
            "[82]\tvalidation_0-auc:0.831802\tvalidation_1-auc:0.829037\n",
            "[83]\tvalidation_0-auc:0.831853\tvalidation_1-auc:0.829017\n",
            "[84]\tvalidation_0-auc:0.831915\tvalidation_1-auc:0.829022\n",
            "[85]\tvalidation_0-auc:0.831957\tvalidation_1-auc:0.829037\n",
            "[86]\tvalidation_0-auc:0.83201\tvalidation_1-auc:0.829054\n",
            "[87]\tvalidation_0-auc:0.832064\tvalidation_1-auc:0.829125\n",
            "[88]\tvalidation_0-auc:0.832119\tvalidation_1-auc:0.829115\n",
            "[89]\tvalidation_0-auc:0.832172\tvalidation_1-auc:0.829098\n",
            "[90]\tvalidation_0-auc:0.832216\tvalidation_1-auc:0.829114\n",
            "[91]\tvalidation_0-auc:0.832262\tvalidation_1-auc:0.829144\n",
            "[92]\tvalidation_0-auc:0.832303\tvalidation_1-auc:0.829128\n",
            "[93]\tvalidation_0-auc:0.832352\tvalidation_1-auc:0.829199\n",
            "[94]\tvalidation_0-auc:0.832409\tvalidation_1-auc:0.829179\n",
            "[95]\tvalidation_0-auc:0.832451\tvalidation_1-auc:0.829218\n",
            "[96]\tvalidation_0-auc:0.832471\tvalidation_1-auc:0.829209\n",
            "[97]\tvalidation_0-auc:0.832509\tvalidation_1-auc:0.829247\n",
            "[98]\tvalidation_0-auc:0.832582\tvalidation_1-auc:0.829231\n",
            "[99]\tvalidation_0-auc:0.832611\tvalidation_1-auc:0.829248\n"
          ]
        },
        {
          "output_type": "execute_result",
          "data": {
            "text/plain": [
              "GridSearchCV(cv=StratifiedKFold(n_splits=3, random_state=42, shuffle=True),\n",
              "             estimator=XGBClassifier(eval_metric='auc', subsample=0.5,\n",
              "                                     tree_method='gpu_hist'),\n",
              "             n_jobs=-1,\n",
              "             param_grid={'colsample_bytree': [0.8, 1],\n",
              "                         'learning_rate_list': [0.02, 0.05, 0.1, 0.3],\n",
              "                         'max_depth_list': [2, 3, 4],\n",
              "                         'n_estimators_list': [100, 200, 300]},\n",
              "             return_train_score=True,\n",
              "             scoring=<function my_roc_auc_score at 0x7f16df544320>, verbose=3)"
            ]
          },
          "metadata": {},
          "execution_count": 42
        }
      ]
    },
    {
      "cell_type": "markdown",
      "source": [
        "#### Best parameters"
      ],
      "metadata": {
        "id": "9i7QVlO9Zs7C"
      }
    },
    {
      "cell_type": "code",
      "source": [
        "print(grid.best_params_)"
      ],
      "metadata": {
        "id": "12EmZfUOO_Ml",
        "colab": {
          "base_uri": "https://localhost:8080/"
        },
        "outputId": "10e80d36-26fd-428a-9400-ce952f2dd058"
      },
      "execution_count": 43,
      "outputs": [
        {
          "output_type": "stream",
          "name": "stdout",
          "text": [
            "{'colsample_bytree': 1, 'learning_rate_list': 0.02, 'max_depth_list': 2, 'n_estimators_list': 100}\n"
          ]
        }
      ]
    },
    {
      "cell_type": "code",
      "source": [
        "grid_predictions = grid.predict(X_test)"
      ],
      "metadata": {
        "id": "D3_XVeOElfF_"
      },
      "execution_count": 44,
      "outputs": []
    },
    {
      "cell_type": "code",
      "source": [
        "# print classification report \n",
        "print(classification_report(y_test, grid_predictions)) "
      ],
      "metadata": {
        "id": "GHHTR8c5ljc3",
        "colab": {
          "base_uri": "https://localhost:8080/"
        },
        "outputId": "ca419f16-13fe-4fa5-f6ce-8965cebbf12e"
      },
      "execution_count": 45,
      "outputs": [
        {
          "output_type": "stream",
          "name": "stdout",
          "text": [
            "              precision    recall  f1-score   support\n",
            "\n",
            "           0       0.78      0.72      0.75      3537\n",
            "           1       0.74      0.80      0.77      3533\n",
            "\n",
            "    accuracy                           0.76      7070\n",
            "   macro avg       0.76      0.76      0.76      7070\n",
            "weighted avg       0.76      0.76      0.76      7070\n",
            "\n"
          ]
        }
      ]
    },
    {
      "cell_type": "code",
      "source": [
        "cf_matrix = confusion_matrix(y_test, y_pred)\n",
        "sns.heatmap(cf_matrix, annot=True)"
      ],
      "metadata": {
        "id": "AUiM3bFDlmhk",
        "colab": {
          "base_uri": "https://localhost:8080/",
          "height": 282
        },
        "outputId": "d4c7a169-8f3d-45f4-f331-664c1cda38f3"
      },
      "execution_count": 46,
      "outputs": [
        {
          "output_type": "execute_result",
          "data": {
            "text/plain": [
              "<matplotlib.axes._subplots.AxesSubplot at 0x7f16d00b7b90>"
            ]
          },
          "metadata": {},
          "execution_count": 46
        },
        {
          "output_type": "display_data",
          "data": {
            "text/plain": [
              "<Figure size 432x288 with 2 Axes>"
            ],
            "image/png": "[encoded data removed]"
          },
          "metadata": {
            "needs_background": "light"
          }
        }
      ]
    },
    {
      "cell_type": "markdown",
      "source": [
        "#### Create best model"
      ],
      "metadata": {
        "id": "J8IgvBExZ778"
      }
    },
    {
      "cell_type": "code",
      "source": [
        "model = XGBClassifier(colsample_bytree=1, \n",
        "                      learning_rate_list=0.02, \n",
        "                      max_depth_list=2, \n",
        "                      n_estimators_list=100, \n",
        "                      subsample=0.5, \n",
        "                      eval_metric='auc', \n",
        "                      Verbosity=1, \n",
        "                      early_stopping_rounds=10, \n",
        "                      tree_method='gpu_hist')"
      ],
      "metadata": {
        "id": "vGKJWbVtZ93l"
      },
      "execution_count": 47,
      "outputs": []
    },
    {
      "cell_type": "code",
      "source": [
        "model.fit(X_train,y_train)"
      ],
      "metadata": {
        "id": "CWtl6cWla4NA",
        "colab": {
          "base_uri": "https://localhost:8080/"
        },
        "outputId": "ceef6410-0e95-42e4-c03a-a54ef8b7ac9c"
      },
      "execution_count": 48,
      "outputs": [
        {
          "output_type": "execute_result",
          "data": {
            "text/plain": [
              "XGBClassifier(Verbosity=1, early_stopping_rounds=10, eval_metric='auc',\n",
              "              learning_rate_list=0.02, max_depth_list=2, n_estimators_list=100,\n",
              "              subsample=0.5, tree_method='gpu_hist')"
            ]
          },
          "metadata": {},
          "execution_count": 48
        }
      ]
    },
    {
      "cell_type": "code",
      "source": [
        "y_pred = model.predict(X_test)\n",
        "accuracy = accuracy_score(y_test, y_pred)\n",
        "accuracy"
      ],
      "metadata": {
        "id": "p8tPxucLbFFH",
        "colab": {
          "base_uri": "https://localhost:8080/"
        },
        "outputId": "550f556a-c610-454a-d066-40da5d39ccd2"
      },
      "execution_count": 49,
      "outputs": [
        {
          "output_type": "execute_result",
          "data": {
            "text/plain": [
              "0.7626591230551627"
            ]
          },
          "metadata": {},
          "execution_count": 49
        }
      ]
    },
    {
      "cell_type": "markdown",
      "source": [
        "#### Precision, Recall and Confusion matrix"
      ],
      "metadata": {
        "id": "Jj_dD9AMbTYR"
      }
    },
    {
      "cell_type": "code",
      "source": [
        "print(confusion_matrix(y_test, y_pred))\n",
        "print(classification_report(y_test, y_pred))"
      ],
      "metadata": {
        "id": "86sIuPDMbTYS",
        "colab": {
          "base_uri": "https://localhost:8080/"
        },
        "outputId": "7889bda4-3e13-4b4f-b6f6-baf8469e71f1"
      },
      "execution_count": 50,
      "outputs": [
        {
          "output_type": "stream",
          "name": "stdout",
          "text": [
            "[[2563  974]\n",
            " [ 704 2829]]\n",
            "              precision    recall  f1-score   support\n",
            "\n",
            "           0       0.78      0.72      0.75      3537\n",
            "           1       0.74      0.80      0.77      3533\n",
            "\n",
            "    accuracy                           0.76      7070\n",
            "   macro avg       0.76      0.76      0.76      7070\n",
            "weighted avg       0.76      0.76      0.76      7070\n",
            "\n"
          ]
        }
      ]
    },
    {
      "cell_type": "code",
      "source": [
        "cf_matrix = confusion_matrix(y_test, y_pred)\n",
        "sns.heatmap(cf_matrix, annot=True)"
      ],
      "metadata": {
        "id": "QEn-7qnmbTYS",
        "colab": {
          "base_uri": "https://localhost:8080/",
          "height": 282
        },
        "outputId": "c0b13b42-c9ea-481f-b741-28063923a9e8"
      },
      "execution_count": 51,
      "outputs": [
        {
          "output_type": "execute_result",
          "data": {
            "text/plain": [
              "<matplotlib.axes._subplots.AxesSubplot at 0x7f16d005e150>"
            ]
          },
          "metadata": {},
          "execution_count": 51
        },
        {
          "output_type": "display_data",
          "data": {
            "text/plain": [
              "<Figure size 432x288 with 2 Axes>"
            ],
            "image/png": "[encoded data removed]"
          },
          "metadata": {
            "needs_background": "light"
          }
        }
      ]
    },
    {
      "cell_type": "markdown",
      "source": [
        "### Illustration of hyperparameters's changings imapact on accuracy"
      ],
      "metadata": {
        "id": "XY530MuiU6Jw"
      }
    },
    {
      "cell_type": "code",
      "source": [
        "import matplotlib.pyplot as plt"
      ],
      "metadata": {
        "id": "VCl7XJmGXOrN"
      },
      "execution_count": 52,
      "outputs": []
    },
    {
      "cell_type": "code",
      "source": [
        "results = pd.DataFrame(grid.cv_results_)\n",
        "results"
      ],
      "metadata": {
        "id": "59UZ1-rn1bW0",
        "colab": {
          "base_uri": "https://localhost:8080/",
          "height": 908
        },
        "outputId": "fe001df3-0836-451e-b068-8746fd6d2ce0"
      },
      "execution_count": 53,
      "outputs": [
        {
          "output_type": "execute_result",
          "data": {
            "text/plain": [
              "    mean_fit_time  std_fit_time  mean_score_time  std_score_time  \\\n",
              "0        2.432990      0.176339         0.026928        0.000831   \n",
              "1        1.971967      0.159679         0.027547        0.001676   \n",
              "2        1.940361      0.050270         0.025907        0.001780   \n",
              "3        2.024182      0.023235         0.034411        0.006864   \n",
              "4        1.977569      0.077595         0.025623        0.001082   \n",
              "..            ...           ...              ...             ...   \n",
              "67       2.560407      0.199201         0.030721        0.010563   \n",
              "68       1.990563      0.081774         0.028404        0.004254   \n",
              "69       1.973933      0.026229         0.024141        0.000665   \n",
              "70       2.050854      0.022485         0.023189        0.000188   \n",
              "71       1.943470      0.146995         0.021405        0.002781   \n",
              "\n",
              "   param_colsample_bytree param_learning_rate_list param_max_depth_list  \\\n",
              "0                     0.8                     0.02                    2   \n",
              "1                     0.8                     0.02                    2   \n",
              "2                     0.8                     0.02                    2   \n",
              "3                     0.8                     0.02                    3   \n",
              "4                     0.8                     0.02                    3   \n",
              "..                    ...                      ...                  ...   \n",
              "67                      1                      0.3                    3   \n",
              "68                      1                      0.3                    3   \n",
              "69                      1                      0.3                    4   \n",
              "70                      1                      0.3                    4   \n",
              "71                      1                      0.3                    4   \n",
              "\n",
              "   param_n_estimators_list                                             params  \\\n",
              "0                      100  {'colsample_bytree': 0.8, 'learning_rate_list'...   \n",
              "1                      200  {'colsample_bytree': 0.8, 'learning_rate_list'...   \n",
              "2                      300  {'colsample_bytree': 0.8, 'learning_rate_list'...   \n",
              "3                      100  {'colsample_bytree': 0.8, 'learning_rate_list'...   \n",
              "4                      200  {'colsample_bytree': 0.8, 'learning_rate_list'...   \n",
              "..                     ...                                                ...   \n",
              "67                     200  {'colsample_bytree': 1, 'learning_rate_list': ...   \n",
              "68                     300  {'colsample_bytree': 1, 'learning_rate_list': ...   \n",
              "69                     100  {'colsample_bytree': 1, 'learning_rate_list': ...   \n",
              "70                     200  {'colsample_bytree': 1, 'learning_rate_list': ...   \n",
              "71                     300  {'colsample_bytree': 1, 'learning_rate_list': ...   \n",
              "\n",
              "    split0_test_score  split1_test_score  split2_test_score  mean_test_score  \\\n",
              "0            0.830208           0.828855           0.827946         0.829003   \n",
              "1            0.830208           0.828855           0.827946         0.829003   \n",
              "2            0.830208           0.828855           0.827946         0.829003   \n",
              "3            0.830208           0.828855           0.827946         0.829003   \n",
              "4            0.830208           0.828855           0.827946         0.829003   \n",
              "..                ...                ...                ...              ...   \n",
              "67           0.829874           0.829159           0.828135         0.829056   \n",
              "68           0.829874           0.829159           0.828135         0.829056   \n",
              "69           0.829874           0.829159           0.828135         0.829056   \n",
              "70           0.829874           0.829159           0.828135         0.829056   \n",
              "71           0.829874           0.829159           0.828135         0.829056   \n",
              "\n",
              "    std_test_score  rank_test_score  split0_train_score  split1_train_score  \\\n",
              "0         0.000929               37             0.83299            0.833217   \n",
              "1         0.000929               37             0.83299            0.833217   \n",
              "2         0.000929               37             0.83299            0.833217   \n",
              "3         0.000929               37             0.83299            0.833217   \n",
              "4         0.000929               37             0.83299            0.833217   \n",
              "..             ...              ...                 ...                 ...   \n",
              "67        0.000713                1             0.83326            0.833585   \n",
              "68        0.000713                1             0.83326            0.833585   \n",
              "69        0.000713                1             0.83326            0.833585   \n",
              "70        0.000713                1             0.83326            0.833585   \n",
              "71        0.000713                1             0.83326            0.833585   \n",
              "\n",
              "    split2_train_score  mean_train_score  std_train_score  \n",
              "0             0.834384           0.83353         0.000611  \n",
              "1             0.834384           0.83353         0.000611  \n",
              "2             0.834384           0.83353         0.000611  \n",
              "3             0.834384           0.83353         0.000611  \n",
              "4             0.834384           0.83353         0.000611  \n",
              "..                 ...               ...              ...  \n",
              "67            0.834644           0.83383         0.000591  \n",
              "68            0.834644           0.83383         0.000591  \n",
              "69            0.834644           0.83383         0.000591  \n",
              "70            0.834644           0.83383         0.000591  \n",
              "71            0.834644           0.83383         0.000591  \n",
              "\n",
              "[72 rows x 20 columns]"
            ],
            "text/html": [
              "\n",
              "  <div id=\"df-45da49fa-2186-4a89-a302-3f6327f7f881\">\n",
              "    <div class=\"colab-df-container\">\n",
              "      <div>\n",
              "<style scoped>\n",
              "    .dataframe tbody tr th:only-of-type {\n",
              "        vertical-align: middle;\n",
              "    }\n",
              "\n",
              "    .dataframe tbody tr th {\n",
              "        vertical-align: top;\n",
              "    }\n",
              "\n",
              "    .dataframe thead th {\n",
              "        text-align: right;\n",
              "    }\n",
              "</style>\n",
              "<table border=\"1\" class=\"dataframe\">\n",
              "  <thead>\n",
              "    <tr style=\"text-align: right;\">\n",
              "      <th></th>\n",
              "      <th>mean_fit_time</th>\n",
              "      <th>std_fit_time</th>\n",
              "      <th>mean_score_time</th>\n",
              "      <th>std_score_time</th>\n",
              "      <th>param_colsample_bytree</th>\n",
              "      <th>param_learning_rate_list</th>\n",
              "      <th>param_max_depth_list</th>\n",
              "      <th>param_n_estimators_list</th>\n",
              "      <th>params</th>\n",
              "      <th>split0_test_score</th>\n",
              "      <th>split1_test_score</th>\n",
              "      <th>split2_test_score</th>\n",
              "      <th>mean_test_score</th>\n",
              "      <th>std_test_score</th>\n",
              "      <th>rank_test_score</th>\n",
              "      <th>split0_train_score</th>\n",
              "      <th>split1_train_score</th>\n",
              "      <th>split2_train_score</th>\n",
              "      <th>mean_train_score</th>\n",
              "      <th>std_train_score</th>\n",
              "    </tr>\n",
              "  </thead>\n",
              "  <tbody>\n",
              "    <tr>\n",
              "      <th>0</th>\n",
              "      <td>2.432990</td>\n",
              "      <td>0.176339</td>\n",
              "      <td>0.026928</td>\n",
              "      <td>0.000831</td>\n",
              "      <td>0.8</td>\n",
              "      <td>0.02</td>\n",
              "      <td>2</td>\n",
              "      <td>100</td>\n",
              "      <td>{'colsample_bytree': 0.8, 'learning_rate_list'...</td>\n",
              "      <td>0.830208</td>\n",
              "      <td>0.828855</td>\n",
              "      <td>0.827946</td>\n",
              "      <td>0.829003</td>\n",
              "      <td>0.000929</td>\n",
              "      <td>37</td>\n",
              "      <td>0.83299</td>\n",
              "      <td>0.833217</td>\n",
              "      <td>0.834384</td>\n",
              "      <td>0.83353</td>\n",
              "      <td>0.000611</td>\n",
              "    </tr>\n",
              "    <tr>\n",
              "      <th>1</th>\n",
              "      <td>1.971967</td>\n",
              "      <td>0.159679</td>\n",
              "      <td>0.027547</td>\n",
              "      <td>0.001676</td>\n",
              "      <td>0.8</td>\n",
              "      <td>0.02</td>\n",
              "      <td>2</td>\n",
              "      <td>200</td>\n",
              "      <td>{'colsample_bytree': 0.8, 'learning_rate_list'...</td>\n",
              "      <td>0.830208</td>\n",
              "      <td>0.828855</td>\n",
              "      <td>0.827946</td>\n",
              "      <td>0.829003</td>\n",
              "      <td>0.000929</td>\n",
              "      <td>37</td>\n",
              "      <td>0.83299</td>\n",
              "      <td>0.833217</td>\n",
              "      <td>0.834384</td>\n",
              "      <td>0.83353</td>\n",
              "      <td>0.000611</td>\n",
              "    </tr>\n",
              "    <tr>\n",
              "      <th>2</th>\n",
              "      <td>1.940361</td>\n",
              "      <td>0.050270</td>\n",
              "      <td>0.025907</td>\n",
              "      <td>0.001780</td>\n",
              "      <td>0.8</td>\n",
              "      <td>0.02</td>\n",
              "      <td>2</td>\n",
              "      <td>300</td>\n",
              "      <td>{'colsample_bytree': 0.8, 'learning_rate_list'...</td>\n",
              "      <td>0.830208</td>\n",
              "      <td>0.828855</td>\n",
              "      <td>0.827946</td>\n",
              "      <td>0.829003</td>\n",
              "      <td>0.000929</td>\n",
              "      <td>37</td>\n",
              "      <td>0.83299</td>\n",
              "      <td>0.833217</td>\n",
              "      <td>0.834384</td>\n",
              "      <td>0.83353</td>\n",
              "      <td>0.000611</td>\n",
              "    </tr>\n",
              "    <tr>\n",
              "      <th>3</th>\n",
              "      <td>2.024182</td>\n",
              "      <td>0.023235</td>\n",
              "      <td>0.034411</td>\n",
              "      <td>0.006864</td>\n",
              "      <td>0.8</td>\n",
              "      <td>0.02</td>\n",
              "      <td>3</td>\n",
              "      <td>100</td>\n",
              "      <td>{'colsample_bytree': 0.8, 'learning_rate_list'...</td>\n",
              "      <td>0.830208</td>\n",
              "      <td>0.828855</td>\n",
              "      <td>0.827946</td>\n",
              "      <td>0.829003</td>\n",
              "      <td>0.000929</td>\n",
              "      <td>37</td>\n",
              "      <td>0.83299</td>\n",
              "      <td>0.833217</td>\n",
              "      <td>0.834384</td>\n",
              "      <td>0.83353</td>\n",
              "      <td>0.000611</td>\n",
              "    </tr>\n",
              "    <tr>\n",
              "      <th>4</th>\n",
              "      <td>1.977569</td>\n",
              "      <td>0.077595</td>\n",
              "      <td>0.025623</td>\n",
              "      <td>0.001082</td>\n",
              "      <td>0.8</td>\n",
              "      <td>0.02</td>\n",
              "      <td>3</td>\n",
              "      <td>200</td>\n",
              "      <td>{'colsample_bytree': 0.8, 'learning_rate_list'...</td>\n",
              "      <td>0.830208</td>\n",
              "      <td>0.828855</td>\n",
              "      <td>0.827946</td>\n",
              "      <td>0.829003</td>\n",
              "      <td>0.000929</td>\n",
              "      <td>37</td>\n",
              "      <td>0.83299</td>\n",
              "      <td>0.833217</td>\n",
              "      <td>0.834384</td>\n",
              "      <td>0.83353</td>\n",
              "      <td>0.000611</td>\n",
              "    </tr>\n",
              "    <tr>\n",
              "      <th>...</th>\n",
              "      <td>...</td>\n",
              "      <td>...</td>\n",
              "      <td>...</td>\n",
              "      <td>...</td>\n",
              "      <td>...</td>\n",
              "      <td>...</td>\n",
              "      <td>...</td>\n",
              "      <td>...</td>\n",
              "      <td>...</td>\n",
              "      <td>...</td>\n",
              "      <td>...</td>\n",
              "      <td>...</td>\n",
              "      <td>...</td>\n",
              "      <td>...</td>\n",
              "      <td>...</td>\n",
              "      <td>...</td>\n",
              "      <td>...</td>\n",
              "      <td>...</td>\n",
              "      <td>...</td>\n",
              "      <td>...</td>\n",
              "    </tr>\n",
              "    <tr>\n",
              "      <th>67</th>\n",
              "      <td>2.560407</td>\n",
              "      <td>0.199201</td>\n",
              "      <td>0.030721</td>\n",
              "      <td>0.010563</td>\n",
              "      <td>1</td>\n",
              "      <td>0.3</td>\n",
              "      <td>3</td>\n",
              "      <td>200</td>\n",
              "      <td>{'colsample_bytree': 1, 'learning_rate_list': ...</td>\n",
              "      <td>0.829874</td>\n",
              "      <td>0.829159</td>\n",
              "      <td>0.828135</td>\n",
              "      <td>0.829056</td>\n",
              "      <td>0.000713</td>\n",
              "      <td>1</td>\n",
              "      <td>0.83326</td>\n",
              "      <td>0.833585</td>\n",
              "      <td>0.834644</td>\n",
              "      <td>0.83383</td>\n",
              "      <td>0.000591</td>\n",
              "    </tr>\n",
              "    <tr>\n",
              "      <th>68</th>\n",
              "      <td>1.990563</td>\n",
              "      <td>0.081774</td>\n",
              "      <td>0.028404</td>\n",
              "      <td>0.004254</td>\n",
              "      <td>1</td>\n",
              "      <td>0.3</td>\n",
              "      <td>3</td>\n",
              "      <td>300</td>\n",
              "      <td>{'colsample_bytree': 1, 'learning_rate_list': ...</td>\n",
              "      <td>0.829874</td>\n",
              "      <td>0.829159</td>\n",
              "      <td>0.828135</td>\n",
              "      <td>0.829056</td>\n",
              "      <td>0.000713</td>\n",
              "      <td>1</td>\n",
              "      <td>0.83326</td>\n",
              "      <td>0.833585</td>\n",
              "      <td>0.834644</td>\n",
              "      <td>0.83383</td>\n",
              "      <td>0.000591</td>\n",
              "    </tr>\n",
              "    <tr>\n",
              "      <th>69</th>\n",
              "      <td>1.973933</td>\n",
              "      <td>0.026229</td>\n",
              "      <td>0.024141</td>\n",
              "      <td>0.000665</td>\n",
              "      <td>1</td>\n",
              "      <td>0.3</td>\n",
              "      <td>4</td>\n",
              "      <td>100</td>\n",
              "      <td>{'colsample_bytree': 1, 'learning_rate_list': ...</td>\n",
              "      <td>0.829874</td>\n",
              "      <td>0.829159</td>\n",
              "      <td>0.828135</td>\n",
              "      <td>0.829056</td>\n",
              "      <td>0.000713</td>\n",
              "      <td>1</td>\n",
              "      <td>0.83326</td>\n",
              "      <td>0.833585</td>\n",
              "      <td>0.834644</td>\n",
              "      <td>0.83383</td>\n",
              "      <td>0.000591</td>\n",
              "    </tr>\n",
              "    <tr>\n",
              "      <th>70</th>\n",
              "      <td>2.050854</td>\n",
              "      <td>0.022485</td>\n",
              "      <td>0.023189</td>\n",
              "      <td>0.000188</td>\n",
              "      <td>1</td>\n",
              "      <td>0.3</td>\n",
              "      <td>4</td>\n",
              "      <td>200</td>\n",
              "      <td>{'colsample_bytree': 1, 'learning_rate_list': ...</td>\n",
              "      <td>0.829874</td>\n",
              "      <td>0.829159</td>\n",
              "      <td>0.828135</td>\n",
              "      <td>0.829056</td>\n",
              "      <td>0.000713</td>\n",
              "      <td>1</td>\n",
              "      <td>0.83326</td>\n",
              "      <td>0.833585</td>\n",
              "      <td>0.834644</td>\n",
              "      <td>0.83383</td>\n",
              "      <td>0.000591</td>\n",
              "    </tr>\n",
              "    <tr>\n",
              "      <th>71</th>\n",
              "      <td>1.943470</td>\n",
              "      <td>0.146995</td>\n",
              "      <td>0.021405</td>\n",
              "      <td>0.002781</td>\n",
              "      <td>1</td>\n",
              "      <td>0.3</td>\n",
              "      <td>4</td>\n",
              "      <td>300</td>\n",
              "      <td>{'colsample_bytree': 1, 'learning_rate_list': ...</td>\n",
              "      <td>0.829874</td>\n",
              "      <td>0.829159</td>\n",
              "      <td>0.828135</td>\n",
              "      <td>0.829056</td>\n",
              "      <td>0.000713</td>\n",
              "      <td>1</td>\n",
              "      <td>0.83326</td>\n",
              "      <td>0.833585</td>\n",
              "      <td>0.834644</td>\n",
              "      <td>0.83383</td>\n",
              "      <td>0.000591</td>\n",
              "    </tr>\n",
              "  </tbody>\n",
              "</table>\n",
              "<p>72 rows × 20 columns</p>\n",
              "</div>\n",
              "      <button class=\"colab-df-convert\" onclick=\"convertToInteractive('df-45da49fa-2186-4a89-a302-3f6327f7f881')\"\n",
              "              title=\"Convert this dataframe to an interactive table.\"\n",
              "              style=\"display:none;\">\n",
              "        \n",
              "  <svg xmlns=\"http://www.w3.org/2000/svg\" height=\"24px\"viewBox=\"0 0 24 24\"\n",
              "       width=\"24px\">\n",
              "    <path d=\"M0 0h24v24H0V0z\" fill=\"none\"/>\n",
              "    <path d=\"M18.56 5.44l.94 2.06.94-2.06 2.06-.94-2.06-.94-.94-2.06-.94 2.06-2.06.94zm-11 1L8.5 8.5l.94-2.06 2.06-.94-2.06-.94L8.5 2.5l-.94 2.06-2.06.94zm10 10l.94 2.06.94-2.06 2.06-.94-2.06-.94-.94-2.06-.94 2.06-2.06.94z\"/><path d=\"M17.41 7.96l-1.37-1.37c-.4-.4-.92-.59-1.43-.59-.52 0-1.04.2-1.43.59L10.3 9.45l-7.72 7.72c-.78.78-.78 2.05 0 2.83L4 21.41c.39.39.9.59 1.41.59.51 0 1.02-.2 1.41-.59l7.78-7.78 2.81-2.81c.8-.78.8-2.07 0-2.86zM5.41 20L4 18.59l7.72-7.72 1.47 1.35L5.41 20z\"/>\n",
              "  </svg>\n",
              "      </button>\n",
              "      \n",
              "  <style>\n",
              "    .colab-df-container {\n",
              "      display:flex;\n",
              "      flex-wrap:wrap;\n",
              "      gap: 12px;\n",
              "    }\n",
              "\n",
              "    .colab-df-convert {\n",
              "      background-color: #E8F0FE;\n",
              "      border: none;\n",
              "      border-radius: 50%;\n",
              "      cursor: pointer;\n",
              "      display: none;\n",
              "      fill: #1967D2;\n",
              "      height: 32px;\n",
              "      padding: 0 0 0 0;\n",
              "      width: 32px;\n",
              "    }\n",
              "\n",
              "    .colab-df-convert:hover {\n",
              "      background-color: #E2EBFA;\n",
              "      box-shadow: 0px 1px 2px rgba(60, 64, 67, 0.3), 0px 1px 3px 1px rgba(60, 64, 67, 0.15);\n",
              "      fill: #174EA6;\n",
              "    }\n",
              "\n",
              "    [theme=dark] .colab-df-convert {\n",
              "      background-color: #3B4455;\n",
              "      fill: #D2E3FC;\n",
              "    }\n",
              "\n",
              "    [theme=dark] .colab-df-convert:hover {\n",
              "      background-color: #434B5C;\n",
              "      box-shadow: 0px 1px 3px 1px rgba(0, 0, 0, 0.15);\n",
              "      filter: drop-shadow(0px 1px 2px rgba(0, 0, 0, 0.3));\n",
              "      fill: #FFFFFF;\n",
              "    }\n",
              "  </style>\n",
              "\n",
              "      <script>\n",
              "        const buttonEl =\n",
              "          document.querySelector('#df-45da49fa-2186-4a89-a302-3f6327f7f881 button.colab-df-convert');\n",
              "        buttonEl.style.display =\n",
              "          google.colab.kernel.accessAllowed ? 'block' : 'none';\n",
              "\n",
              "        async function convertToInteractive(key) {\n",
              "          const element = document.querySelector('#df-45da49fa-2186-4a89-a302-3f6327f7f881');\n",
              "          const dataTable =\n",
              "            await google.colab.kernel.invokeFunction('convertToInteractive',\n",
              "                                                     [key], {});\n",
              "          if (!dataTable) return;\n",
              "\n",
              "          const docLinkHtml = 'Like what you see? Visit the ' +\n",
              "            '<a target=\"_blank\" href=https://colab.research.google.com/notebooks/data_table.ipynb>data table notebook</a>'\n",
              "            + ' to learn more about interactive tables.';\n",
              "          element.innerHTML = '';\n",
              "          dataTable['output_type'] = 'display_data';\n",
              "          await google.colab.output.renderOutput(dataTable, element);\n",
              "          const docLink = document.createElement('div');\n",
              "          docLink.innerHTML = docLinkHtml;\n",
              "          element.appendChild(docLink);\n",
              "        }\n",
              "      </script>\n",
              "    </div>\n",
              "  </div>\n",
              "  "
            ]
          },
          "metadata": {},
          "execution_count": 53
        }
      ]
    },
    {
      "cell_type": "code",
      "source": [
        "def plot_gridsearch_results(grid):\n",
        "    res = grid.cv_results_\n",
        "\n",
        "    means_train = res['mean_train_score']\n",
        "    stds_train = res['std_train_score']\n",
        "    means_test = res['mean_test_score']\n",
        "    stds_test = res['std_test_score']\n",
        "\n",
        "    masks=[]\n",
        "    m_names= list(grid.best_params_.keys())\n",
        "    for pk, pv in grid.best_params_.items():\n",
        "        masks.append(list(res['param_'+pk].data==pv))\n",
        "\n",
        "    grid_params = grid.param_grid\n",
        "    fig, ax = plt.subplots(1,len(grid_params),sharex='none', sharey='all',figsize=(20,5))\n",
        "    fig.suptitle('Score for each parameter')\n",
        "    fig.text(0.04, 0.5, 'MEAN SCORE', va='center', rotation='vertical')\n",
        "    pram_preformace_in_best = {}\n",
        "    for i, p in enumerate(m_names):\n",
        "        m = np.stack(masks[:i] + masks[i+1:])\n",
        "        pram_preformace_in_best\n",
        "        best_parms_m = m.all(axis=0)\n",
        "        best_index = np.where(best_parms_m)[0]\n",
        "        x = np.array(grid_params[p])\n",
        "        y_1 = np.array(means_test[best_index])\n",
        "        e_1 = np.array(stds_test[best_index])\n",
        "        y_2 = np.array(means_train[best_index])\n",
        "        e_2 = np.array(stds_train[best_index])\n",
        "        ax[i].errorbar(x, y_1, e_1, linestyle='--', marker='o', label='test')\n",
        "        ax[i].errorbar(x, y_2, e_2, linestyle='-', marker='^',label='train' )\n",
        "        ax[i].set_xlabel(p.upper())\n",
        "\n",
        "    plt.legend()\n",
        "    plt.show()"
      ],
      "metadata": {
        "id": "n2EANzOx4N6-"
      },
      "execution_count": 68,
      "outputs": []
    },
    {
      "cell_type": "code",
      "source": [
        "plot_gridsearch_results(grid)"
      ],
      "metadata": {
        "id": "Muy-IU644qMz",
        "colab": {
          "base_uri": "https://localhost:8080/",
          "height": 327
        },
        "outputId": "63b3fec2-c01e-4f8b-80e7-4882b039075b"
      },
      "execution_count": 69,
      "outputs": [
        {
          "output_type": "display_data",
          "data": {
            "text/plain": [
              "<Figure size 1440x360 with 4 Axes>"
            ],
            "image/png": "[encoded data removed]"
          },
          "metadata": {
            "needs_background": "light"
          }
        }
      ]
    },
    {
      "cell_type": "markdown",
      "source": [
        "<div dir=rtl>\n",
        "هرچه score بهتر باشد یعنی عملکرد مدل با آن پارامتر بهتر بوده است. در نمودارهای بالا به وضوح می‌توانیم این مقایسه بین عملکردها را به تفکیک پارامترها و مقدارهایشان مشاهده کنیم. \n",
        "</div>"
      ],
      "metadata": {
        "id": "AUfSqxDlb7XE"
      }
    }
  ]
}